{
 "cells": [
  {
   "cell_type": "markdown",
   "metadata": {},
   "source": [
    "## Multi-label Classification\n",
    "* The target field tags is basically a list of labels. Once we extract each of these labels from tags, this is essentially a multi-label text classifictaion problem."
   ]
  },
  {
   "cell_type": "code",
   "execution_count": 1,
   "metadata": {
    "colab": {},
    "colab_type": "code",
    "id": "UV00JmaQltEi"
   },
   "outputs": [],
   "source": [
    "#Import libraries\n",
    "\n",
    "import pandas as pd\n",
    "import numpy as np"
   ]
  },
  {
   "cell_type": "markdown",
   "metadata": {
    "colab_type": "text",
    "id": "sIXpUibEltEp"
   },
   "source": [
    "### Exploratory Data Analysis\n",
    "* Read the data\n",
    "* Examine the contents, shape and types\n",
    "* Analyze the data for missing values\n",
    "* Identify important features (Image and category can be prefunctionarily ignored as they evidently don't add any value.)"
   ]
  },
  {
   "cell_type": "code",
   "execution_count": 2,
   "metadata": {
    "colab": {},
    "colab_type": "code",
    "id": "lfAugs12ltEq"
   },
   "outputs": [],
   "source": [
    "data = pd.read_csv('recipes_82k.csv')"
   ]
  },
  {
   "cell_type": "code",
   "execution_count": 3,
   "metadata": {
    "colab": {
     "base_uri": "https://localhost:8080/",
     "height": 957
    },
    "colab_type": "code",
    "id": "RpMLPce3ltEw",
    "outputId": "7e6935db-baac-45f1-aabb-7fef78040214"
   },
   "outputs": [
    {
     "data": {
      "text/html": [
       "<div>\n",
       "<style scoped>\n",
       "    .dataframe tbody tr th:only-of-type {\n",
       "        vertical-align: middle;\n",
       "    }\n",
       "\n",
       "    .dataframe tbody tr th {\n",
       "        vertical-align: top;\n",
       "    }\n",
       "\n",
       "    .dataframe thead th {\n",
       "        text-align: right;\n",
       "    }\n",
       "</style>\n",
       "<table border=\"1\" class=\"dataframe\">\n",
       "  <thead>\n",
       "    <tr style=\"text-align: right;\">\n",
       "      <th></th>\n",
       "      <th>category</th>\n",
       "      <th>cooking_method</th>\n",
       "      <th>cuisine</th>\n",
       "      <th>image</th>\n",
       "      <th>ingredients</th>\n",
       "      <th>prep_time</th>\n",
       "      <th>recipe_name</th>\n",
       "      <th>serves</th>\n",
       "      <th>tags</th>\n",
       "    </tr>\n",
       "  </thead>\n",
       "  <tbody>\n",
       "    <tr>\n",
       "      <th>22069</th>\n",
       "      <td>NaN</td>\n",
       "      <td>['For the chicken: Preheat the oven to 325 deg...</td>\n",
       "      <td>[]</td>\n",
       "      <td>https://food.fnr.sndimg.com/content/dam/images...</td>\n",
       "      <td>['1/4 cup olive oil', '1 tablespoon dark chili...</td>\n",
       "      <td>NaN</td>\n",
       "      <td>Chicken Paella</td>\n",
       "      <td>4 servings</td>\n",
       "      <td>Mexican Chicken,Chicken,Poultry,Mexican Rice,R...</td>\n",
       "    </tr>\n",
       "    <tr>\n",
       "      <th>21609</th>\n",
       "      <td>NaN</td>\n",
       "      <td>['Preheat the oven to 350 degrees F.', 'For th...</td>\n",
       "      <td>[]</td>\n",
       "      <td>https://food.fnr.sndimg.com/content/dam/images...</td>\n",
       "      <td>['6 strips thick-cut bacon, diced', '3 cloves ...</td>\n",
       "      <td>NaN</td>\n",
       "      <td>Chicken Alfredo Manicotti</td>\n",
       "      <td>6 servings</td>\n",
       "      <td>Alfredo,Chicken,Poultry,Main Dish</td>\n",
       "    </tr>\n",
       "    <tr>\n",
       "      <th>34854</th>\n",
       "      <td>NaN</td>\n",
       "      <td>['To prepare the beans, put the beans in a pot...</td>\n",
       "      <td>[]</td>\n",
       "      <td>https://food.fnr.sndimg.com/content/dam/images...</td>\n",
       "      <td>['1 1/2 pounds dried pinto beans, cleaned, rin...</td>\n",
       "      <td>NaN</td>\n",
       "      <td>Frijoles Borrachos</td>\n",
       "      <td>8 servings</td>\n",
       "      <td>Easy Main Dish,Easy,Main Dish,Beans and Legume...</td>\n",
       "    </tr>\n",
       "    <tr>\n",
       "      <th>4299</th>\n",
       "      <td>NaN</td>\n",
       "      <td>['Place chicken between 2 sheets of plastic wr...</td>\n",
       "      <td>[]</td>\n",
       "      <td>https://food.fnr.sndimg.com/content/dam/images...</td>\n",
       "      <td>['1 tablespoon vegetable oil', '2 (6 to 8 ounc...</td>\n",
       "      <td>P0Y0M0DT0H5M0.000S</td>\n",
       "      <td>Bacon-Wrapped Chicken Sandwich</td>\n",
       "      <td>2 sandwiches</td>\n",
       "      <td>Easy Chicken,Chicken,Easy,Poultry,Easy Lunch R...</td>\n",
       "    </tr>\n",
       "    <tr>\n",
       "      <th>22399</th>\n",
       "      <td>NaN</td>\n",
       "      <td>['Place the chicken wings in a large stockpot ...</td>\n",
       "      <td>[]</td>\n",
       "      <td>https://food.fnr.sndimg.com/content/dam/images...</td>\n",
       "      <td>['5 pounds chicken wings, rinsed and patted dr...</td>\n",
       "      <td>P0Y0M0DT0H10M0.000S</td>\n",
       "      <td>Chicken Stock</td>\n",
       "      <td>2 quarts</td>\n",
       "      <td>American,Celery,Vegetable,Chicken,Poultry,Carr...</td>\n",
       "    </tr>\n",
       "    <tr>\n",
       "      <th>28430</th>\n",
       "      <td>NaN</td>\n",
       "      <td>['Preheat the oven to 350 degrees F. Line a ba...</td>\n",
       "      <td>[]</td>\n",
       "      <td>https://food.fnr.sndimg.com/content/dam/images...</td>\n",
       "      <td>['6 large skin-on chicken breasts', '1 teaspoo...</td>\n",
       "      <td>NaN</td>\n",
       "      <td>Crispy Chicken Skins</td>\n",
       "      <td>18 pieces</td>\n",
       "      <td>Chicken,Poultry,Appetizer,Snack,Gluten Free,Lo...</td>\n",
       "    </tr>\n",
       "    <tr>\n",
       "      <th>51076</th>\n",
       "      <td>NaN</td>\n",
       "      <td>['For the Pho Stock: Add the beef base and 1 q...</td>\n",
       "      <td>[]</td>\n",
       "      <td>https://food.fnr.sndimg.com/content/dam/images...</td>\n",
       "      <td>['2 tablespoons (30 g) beef bouillon or base',...</td>\n",
       "      <td>NaN</td>\n",
       "      <td>Quick Beef Pho</td>\n",
       "      <td>Makes 2 large or 4 small bowls</td>\n",
       "      <td>Noodles,Beef,Meat,Main Dish</td>\n",
       "    </tr>\n",
       "    <tr>\n",
       "      <th>75797</th>\n",
       "      <td>[]</td>\n",
       "      <td>['For the tea and fish: Soak the dried tea in ...</td>\n",
       "      <td>[]</td>\n",
       "      <td>https://food.fnr.sndimg.com/content/dam/images...</td>\n",
       "      <td>['1/3 cup Lapsang Souchong tea', '1/3 cup bals...</td>\n",
       "      <td>P0Y0M0DT2H0M0.000S</td>\n",
       "      <td>Tea Salmon in the Garden with Lemon</td>\n",
       "      <td>4 servings</td>\n",
       "      <td>Easy Grilling Recipes,Easy,Grilling,Wok Recipe...</td>\n",
       "    </tr>\n",
       "    <tr>\n",
       "      <th>67108</th>\n",
       "      <td>[]</td>\n",
       "      <td>['Whisk together shallot, mayonnaise, vinegar,...</td>\n",
       "      <td>[]</td>\n",
       "      <td>https://food.fnr.sndimg.com/content/dam/images...</td>\n",
       "      <td>['1/2 large shallot, minced', '1/2 cup mayonna...</td>\n",
       "      <td>P0Y0M0DT0H8M0.000S</td>\n",
       "      <td>Shredded Red Leaf Salad with Creamy Red Wine V...</td>\n",
       "      <td>about 4 servings</td>\n",
       "      <td>American,Salad Recipes,Salad Dressing Recipes,...</td>\n",
       "    </tr>\n",
       "    <tr>\n",
       "      <th>44646</th>\n",
       "      <td>NaN</td>\n",
       "      <td>['Place the rosemary, thyme, bay leaf and clov...</td>\n",
       "      <td>[]</td>\n",
       "      <td>https://food.fnr.sndimg.com/content/dam/images...</td>\n",
       "      <td>['1 sprig fresh rosemary', '1 sprig fresh thym...</td>\n",
       "      <td>P0Y0M0DT0H15M0.000S</td>\n",
       "      <td>Osso Buco</td>\n",
       "      <td>6 servings</td>\n",
       "      <td>Easy Main Dish,Easy,Main Dish,Dutch Oven,Itali...</td>\n",
       "    </tr>\n",
       "  </tbody>\n",
       "</table>\n",
       "</div>"
      ],
      "text/plain": [
       "      category                                     cooking_method cuisine  \\\n",
       "22069      NaN  ['For the chicken: Preheat the oven to 325 deg...      []   \n",
       "21609      NaN  ['Preheat the oven to 350 degrees F.', 'For th...      []   \n",
       "34854      NaN  ['To prepare the beans, put the beans in a pot...      []   \n",
       "4299       NaN  ['Place chicken between 2 sheets of plastic wr...      []   \n",
       "22399      NaN  ['Place the chicken wings in a large stockpot ...      []   \n",
       "28430      NaN  ['Preheat the oven to 350 degrees F. Line a ba...      []   \n",
       "51076      NaN  ['For the Pho Stock: Add the beef base and 1 q...      []   \n",
       "75797       []  ['For the tea and fish: Soak the dried tea in ...      []   \n",
       "67108       []  ['Whisk together shallot, mayonnaise, vinegar,...      []   \n",
       "44646      NaN  ['Place the rosemary, thyme, bay leaf and clov...      []   \n",
       "\n",
       "                                                   image  \\\n",
       "22069  https://food.fnr.sndimg.com/content/dam/images...   \n",
       "21609  https://food.fnr.sndimg.com/content/dam/images...   \n",
       "34854  https://food.fnr.sndimg.com/content/dam/images...   \n",
       "4299   https://food.fnr.sndimg.com/content/dam/images...   \n",
       "22399  https://food.fnr.sndimg.com/content/dam/images...   \n",
       "28430  https://food.fnr.sndimg.com/content/dam/images...   \n",
       "51076  https://food.fnr.sndimg.com/content/dam/images...   \n",
       "75797  https://food.fnr.sndimg.com/content/dam/images...   \n",
       "67108  https://food.fnr.sndimg.com/content/dam/images...   \n",
       "44646  https://food.fnr.sndimg.com/content/dam/images...   \n",
       "\n",
       "                                             ingredients            prep_time  \\\n",
       "22069  ['1/4 cup olive oil', '1 tablespoon dark chili...                  NaN   \n",
       "21609  ['6 strips thick-cut bacon, diced', '3 cloves ...                  NaN   \n",
       "34854  ['1 1/2 pounds dried pinto beans, cleaned, rin...                  NaN   \n",
       "4299   ['1 tablespoon vegetable oil', '2 (6 to 8 ounc...   P0Y0M0DT0H5M0.000S   \n",
       "22399  ['5 pounds chicken wings, rinsed and patted dr...  P0Y0M0DT0H10M0.000S   \n",
       "28430  ['6 large skin-on chicken breasts', '1 teaspoo...                  NaN   \n",
       "51076  ['2 tablespoons (30 g) beef bouillon or base',...                  NaN   \n",
       "75797  ['1/3 cup Lapsang Souchong tea', '1/3 cup bals...   P0Y0M0DT2H0M0.000S   \n",
       "67108  ['1/2 large shallot, minced', '1/2 cup mayonna...   P0Y0M0DT0H8M0.000S   \n",
       "44646  ['1 sprig fresh rosemary', '1 sprig fresh thym...  P0Y0M0DT0H15M0.000S   \n",
       "\n",
       "                                             recipe_name  \\\n",
       "22069                                     Chicken Paella   \n",
       "21609                          Chicken Alfredo Manicotti   \n",
       "34854                                 Frijoles Borrachos   \n",
       "4299                      Bacon-Wrapped Chicken Sandwich   \n",
       "22399                                      Chicken Stock   \n",
       "28430                               Crispy Chicken Skins   \n",
       "51076                                     Quick Beef Pho   \n",
       "75797                Tea Salmon in the Garden with Lemon   \n",
       "67108  Shredded Red Leaf Salad with Creamy Red Wine V...   \n",
       "44646                                          Osso Buco   \n",
       "\n",
       "                               serves  \\\n",
       "22069                      4 servings   \n",
       "21609                      6 servings   \n",
       "34854                      8 servings   \n",
       "4299                     2 sandwiches   \n",
       "22399                        2 quarts   \n",
       "28430                       18 pieces   \n",
       "51076  Makes 2 large or 4 small bowls   \n",
       "75797                      4 servings   \n",
       "67108                about 4 servings   \n",
       "44646                      6 servings   \n",
       "\n",
       "                                                    tags  \n",
       "22069  Mexican Chicken,Chicken,Poultry,Mexican Rice,R...  \n",
       "21609                  Alfredo,Chicken,Poultry,Main Dish  \n",
       "34854  Easy Main Dish,Easy,Main Dish,Beans and Legume...  \n",
       "4299   Easy Chicken,Chicken,Easy,Poultry,Easy Lunch R...  \n",
       "22399  American,Celery,Vegetable,Chicken,Poultry,Carr...  \n",
       "28430  Chicken,Poultry,Appetizer,Snack,Gluten Free,Lo...  \n",
       "51076                        Noodles,Beef,Meat,Main Dish  \n",
       "75797  Easy Grilling Recipes,Easy,Grilling,Wok Recipe...  \n",
       "67108  American,Salad Recipes,Salad Dressing Recipes,...  \n",
       "44646  Easy Main Dish,Easy,Main Dish,Dutch Oven,Itali...  "
      ]
     },
     "execution_count": 3,
     "metadata": {},
     "output_type": "execute_result"
    }
   ],
   "source": [
    "data.sample(10)"
   ]
  },
  {
   "cell_type": "code",
   "execution_count": 4,
   "metadata": {
    "colab": {
     "base_uri": "https://localhost:8080/",
     "height": 34
    },
    "colab_type": "code",
    "id": "DZLriIWtltEz",
    "outputId": "265ec288-3b92-42c9-f089-34c0c773b540"
   },
   "outputs": [
    {
     "data": {
      "text/plain": [
       "(82245, 9)"
      ]
     },
     "execution_count": 4,
     "metadata": {},
     "output_type": "execute_result"
    }
   ],
   "source": [
    "data.shape"
   ]
  },
  {
   "cell_type": "code",
   "execution_count": 5,
   "metadata": {
    "colab": {
     "base_uri": "https://localhost:8080/",
     "height": 187
    },
    "colab_type": "code",
    "id": "kfSUrWITltE2",
    "outputId": "810d3748-1d3b-4474-8695-8ebd656dd98d"
   },
   "outputs": [
    {
     "data": {
      "text/plain": [
       "category          object\n",
       "cooking_method    object\n",
       "cuisine           object\n",
       "image             object\n",
       "ingredients       object\n",
       "prep_time         object\n",
       "recipe_name       object\n",
       "serves            object\n",
       "tags              object\n",
       "dtype: object"
      ]
     },
     "execution_count": 5,
     "metadata": {},
     "output_type": "execute_result"
    }
   ],
   "source": [
    "data.dtypes"
   ]
  },
  {
   "cell_type": "code",
   "execution_count": 6,
   "metadata": {
    "colab": {
     "base_uri": "https://localhost:8080/",
     "height": 258
    },
    "colab_type": "code",
    "id": "kJSGBOK0ltE5",
    "outputId": "d3924d3c-2a3f-4f14-c2fa-bae496a877eb"
   },
   "outputs": [
    {
     "name": "stdout",
     "output_type": "stream",
     "text": [
      "[nan '[]'] 1\n",
      "[\"['American']\" nan \"['Italian']\" \"['Mexican']\" \"['Chinese', 'Japanese']\"\n",
      " \"['Indian']\" \"['American', 'Mexican']\" \"['American', 'Italian']\"\n",
      " \"['Asian', 'Hawaiian']\" \"['Mediterranean']\" \"['American', 'Latin']\"\n",
      " \"['American', 'Czech', 'Hungarian']\" \"['American', 'Cuban', 'Latin']\"\n",
      " \"['Latin']\" \"['Latin', 'Mexican']\" \"['Asian']\"\n",
      " \"['American', 'Argentinian']\" \"['American', 'Greek']\"\n",
      " \"['American', 'Tex Mex']\" \"['Tex Mex']\" \"['Cuban', 'Latin']\"\n",
      " \"['Asian', 'Chinese']\" \"['Brazilian']\" '[]'] 23\n",
      "['20 minutes' '15 minutes' '5 minutes' '10 minutes' '0 minutes'\n",
      " '2 minutes' '30 minutes' '35 minutes' '25 minutes' nan '45 minutes'\n",
      " '85 minutes' '240 minutes' '60 minutes' '150 minutes' '300 minutes'\n",
      " '80 minutes' '40 minutes' '360 minutes' '50 minutes' '12 minutes'\n",
      " '8 minutes' '55 minutes' '90 minutes' '3 minutes' '75 minutes'\n",
      " '65 minutes' '105 minutes' '70 minutes' '14 minutes' '28 minutes'\n",
      " '1 minutes' '100 minutes' '840 minutes' '7 minutes' '480 minutes'\n",
      " '600 minutes' '130 minutes' '160 minutes' '255 minutes' '375 minutes'\n",
      " '10.0 minutes' '180 minutes' '120 minutes' 'Total Time: 15 mins minutes'\n",
      " 'P0Y0M0DT0H10M0.000S' 'P0Y0M0DT0H5M0.000S' 'P0Y0M0DT0H2M0.000S'\n",
      " 'P0Y0M0DT0H15M0.000S' 'P0Y0M0DT0H7M0.000S' 'P0Y0M0DT0H3M0.000S'\n",
      " 'Active: 5 min minutes' 'Active: 10 min minutes' 'P0Y0M0DT0H20M0.000S'\n",
      " 'P0Y0M0DT0H8M0.000S' '20.0 minutes' 'P0Y0M0DT0H30M0.000S'\n",
      " 'P0Y0M0DT0H40M0.000S' 'P0Y0M0DT0H55M0.000S' 'P0Y0M0DT0H45M0.000S'\n",
      " 'P0Y0M0DT0H35M0.000S' 'P0Y0M0DT1H0M0.000S' '60.0 minutes'\n",
      " 'P0Y0M0DT2H0M0.000S' 'P0Y0M0DT0H25M0.000S' '120.0 minutes'\n",
      " 'P0Y0M0DT0H12M0.000S' '732.0 minutes' 'P0Y0M0DT1H50M0.000S'\n",
      " 'P0Y0M0DT8H10M0.000S' 'P0Y0M1DT21H0M0.000S' '50.0 minutes'\n",
      " 'Cook: 1 hr 5 min minutes' 'P0Y0M0DT4H10M0.000S' 'P0Y0M0DT4H0M0.000S'\n",
      " '5.0 minutes' '15.0 minutes' '61.0 minutes' '25.0 minutes'\n",
      " 'P0Y0M0DT8H0M0.000S' '35.0 minutes' 'P0Y0M0DT1H30M0.000S' '12.0 minutes'\n",
      " 'P0Y0M0DT0H50M0.000S' 'Active: 15 min minutes' '17.0 minutes'\n",
      " 'P0Y0M0DT0H23M0.000S' 'P0Y0M0DT3H0M0.000S' 'P0Y0M0DT1H10M0.000S'\n",
      " 'P0Y0M0DT0H6M0.000S' 'Cook: 7 min minutes' 'P0Y0M0DT4H35M0.000S'\n",
      " 'P0Y0M0DT0H54M0.000S' 'P0Y0M0DT0H27M0.000S' 'P0Y0M0DT2H15M0.000S'\n",
      " 'P0Y0M0DT0H39M0.000S' 'P0Y0M0DT3H10M0.000S' 'P0Y0M0DT1H15M0.000S'\n",
      " 'P0Y0M0DT1H35M0.000S' 'P0Y0M0DT3H40M0.000S' 'P0Y0M0DT2H6M0.000S'\n",
      " 'P0Y0M0DT4H25M0.000S' '122.0 minutes' '55.0 minutes'\n",
      " 'P0Y0M0DT20H0M0.000S' 'P0Y0M0DT12H25M0.000S' 'P0Y0M0DT18H0M0.000S'\n",
      " 'P0Y0M0DT3H30M0.000S' '40.0 minutes' 'P0Y0M0DT0H14M0.000S'\n",
      " 'P0Y0M0DT1H5M0.000S' '305.0 minutes' 'P0Y0M0DT4H30M0.000S'\n",
      " '600.0 minutes' 'P0Y0M0DT1H45M0.000S' 'P0Y0M0DT0H1M0.000S' '3.0 minutes'\n",
      " 'P0Y0M0DT1H40M0.000S' '121.0 minutes' 'P0Y0M0DT1H20M0.000S'\n",
      " 'P0Y0M0DT4H20M0.000S' '45.0 minutes' 'Cook: 12 min minutes'\n",
      " '42.0 minutes' 'Active: 20 min minutes' 'P0Y0M0DT1H25M0.000S'\n",
      " 'P0Y0M0DT0H28M0.000S' 'P0Y0M0DT2H30M0.000S' '90.0 minutes'\n",
      " 'P0Y0M0DT0H4M0.000S' '30.0 minutes' 'P0Y0M0DT0H11M0.000S' '183.0 minutes'\n",
      " '9.0 minutes' '110.0 minutes' 'P0Y0M0DT12H0M0.000S' '366.0 minutes'\n",
      " 'P0Y0M0DT0H9M0.000S' 'P0Y0M0DT6H0M0.000S' 'P0Y0M0DT0H18M0.000S'\n",
      " 'P0Y0M0DT2H10M0.000S' '1080.0 minutes' 'P0Y0M0DT0H48M0.000S'\n",
      " 'Cook: 20 min minutes' 'Active: 30 min minutes' 'P0Y0M0DT0H13M0.000S'\n",
      " 'P0Y0M1DT12H25M0.000S' 'P0Y0M1DT0H20M0.000S' '4453.0 minutes'\n",
      " '4392.0 minutes' 'Active: 25 min minutes' 'P0Y0M0DT2H45M0.000S'\n",
      " 'P0Y0M0DT8H15M0.000S' '105.0 minutes' 'P0Y0M0DT1H55M0.000S'\n",
      " 'Active: 12 min minutes' 'P0Y0M0DT10H30M0.000S' 'P0Y0M0DT7H50M0.000S'\n",
      " 'P0Y0M0DT3H5M0.000S' 'P0Y0M0DT2H20M0.000S' 'Total: 1 hr 10 min minutes'\n",
      " 'P0Y0M0DT1H22M0.000S' '27.0 minutes' '671.0 minutes'\n",
      " 'Cook: 15 min minutes' '244.0 minutes' '780.0 minutes'\n",
      " 'P0Y0M0DT8H25M0.000S' 'P0Y0M0DT8H20M0.000S' 'Cook: 45 min minutes'\n",
      " 'Cook: 5 min minutes' 'Active: 40 min minutes' 'P0Y0M1DT0H0M0.000S'\n",
      " 'P0Y0M0DT2H35M0.000S' '488.0 minutes' 'P0Y0M2DT0H10M0.000S'\n",
      " 'P0Y0M0DT3H15M0.000S' 'Active: 35 min minutes' '7.0 minutes'\n",
      " 'P0Y0M0DT0H29M0.000S' 'P0Y0M0DT10H0M0.000S' 'P0Y0M0DT4H50M0.000S'\n",
      " '976.0 minutes' 'P0Y0M0DT5H0M0.000S' 'P0Y0M1DT12H0M0.000S'\n",
      " '155.0 minutes' '365.0 minutes' '2880.0 minutes' 'P0Y0M0DT2H5M0.000S'\n",
      " 'P0Y0M0DT0H24M0.000S' 'Cook: 10 min minutes' '13.0 minutes'\n",
      " 'P0Y0M0DT9H0M0.000S' '2970.0 minutes' 'P0Y0M0DT16H0M0.000S'\n",
      " '1464.0 minutes' 'Cook: 1 hr 30 min minutes' 'P0Y0M1DT0H15M0.000S'\n",
      " '22.0 minutes' 'P0Y0M0DT1H3M0.000S' 'P0Y0M1DT0H5M0.000S'\n",
      " 'P0Y0M0DT1H12M0.000S' 'P0Y0M0DT0H36M0.000S' 'P0Y0M0DT14H0M0.000S'\n",
      " 'P0Y0M0DT13H0M0.000S' '52.0 minutes' 'P0Y0M0DT12H15M0.000S' '8.0 minutes'\n",
      " 'P0Y0M0DT0H19M0.000S' '43.0 minutes' '95.0 minutes' '2440.0 minutes'\n",
      " 'Total: 1 hr 40 min minutes' 'P0Y0M0DT0H22M0.000S'\n",
      " 'ACTIVE: 10 min l TOTAL: 30 min l SERVES: 4 minutes'\n",
      " 'P0Y0M0DT5H30M0.000S' '300.0 minutes' '4320.0 minutes'\n",
      " 'Active: 6 min minutes' '243.0 minutes' 'P0Y0M0DT2H55M0.000S'\n",
      " 'P0Y0M0DT2H25M0.000S' 'P0Y0M0DT2H40M0.000S' '21.0 minutes'\n",
      " 'P0Y0M0DT0H43M0.000S' 'P0Y0M0DT4H15M0.000S' 'P0Y0M2DT0H0M0.000S'\n",
      " 'P0Y0M0DT6H5M0.000S' 'P0Y0M0DT0H58M0.000S' '610.0 minutes'\n",
      " 'P0Y0M0DT2H50M0.000S' '85.0 minutes' 'P0Y0M0DT0H17M0.000S' '47.0 minutes'\n",
      " 'Cook: 30 min minutes' '115.0 minutes' '10080.0 minutes' '4.0 minutes'\n",
      " 'P0Y0M0DT0H16M0.000S' 'P0Y0M0DT12H20M0.000S' 'P0Y0M0DT0H26M0.000S'\n",
      " 'Active: 50 min minutes' '100.0 minutes' '210.0 minutes'\n",
      " 'P0Y0M0DT1H2M0.000S' '80.0 minutes' '53.0 minutes'\n",
      " 'ACTIVE: 40 min l TOTAL: 40 min l SERVES: 4 minutes' '150.0 minutes'\n",
      " 'Cook: 35 min minutes' 'P0Y0M0DT8H30M0.000S' 'P0Y0M0DT0H52M0.000S'\n",
      " '549.0 minutes' 'Active: 45 min minutes' '540.0 minutes' '165.0 minutes'\n",
      " 'P0Y0M0DT5H10M0.000S' 'P0Y0M0DT4H45M0.000S' '48.0 minutes'\n",
      " 'P0Y0M0DT6H30M0.000S' 'P0Y0M0DT3H8M0.000S' 'P0Y0M0DT1H8M0.000S'\n",
      " 'P0Y0M0DT8H12M0.000S' 'P0Y0M0DT0H21M0.000S' 'P0Y0M0DT3H9M0.000S'\n",
      " '28.0 minutes' 'P0Y0M0DT3H25M0.000S' '240.0 minutes' '1272.0 minutes'\n",
      " 'Active: 2 hr 15 min minutes' '1647.0 minutes' 'P0Y0M2DT0H30M0.000S'\n",
      " '18.0 minutes' '32.0 minutes' 'P0Y0M0DT1H36M0.000S' 'P0Y0M0DT5H20M0.000S'\n",
      " 'Cook: 50 min minutes' '75.0 minutes' '1440.0 minutes' '427.0 minutes'\n",
      " 'P0Y0M0DT4H5M0.000S' '1525.0 minutes' 'P0Y0M3DT0H10M0.000S'\n",
      " '140.0 minutes' 'P0Y0M1DT1H0M0.000S' '265.0 minutes' '180.0 minutes'\n",
      " 'P0Y0M1DT1H30M0.000S' 'P0Y0M4DT0H0M0.000S' 'Cook: 1 hr 15 min minutes'\n",
      " 'Total: 2 hr 10 min minutes' 'P0Y0M0DT9H30M0.000S' '14.0 minutes'\n",
      " 'Cook: 25 min minutes' 'Cook: 1 hr 10 min minutes' '45445.0 minutes'\n",
      " 'P0Y0M0DT0H37M0.000S' 'P0Y0M0DT3H20M0.000S'\n",
      " 'ACTIVE: 35 min l TOTAL: 35 min l SERVES: 4 (with leftover ragu) minutes'\n",
      " '2.0 minutes' '16.0 minutes' '1220.0 minutes' 'P0Y0M0DT0H42M0.000S'\n",
      " 'P0Y0M0DT0H38M0.000S' '59.0 minutes' 'P0Y0M3DT0H0M0.000S'\n",
      " '2196.0 minutes' '1800.0 minutes' '37.0 minutes' 'P0Y0M4DT0H15M0.000S'\n",
      " 'P0Y0M0DT7H0M0.000S' '793.0 minutes' 'P0Y0M0DT14H30M0.000S'\n",
      " 'P0Y0M0DT3H55M0.000S' 'P0Y0M0DT0H32M0.000S' '24.0 minutes' '23.0 minutes'\n",
      " '38.0 minutes' '65.0 minutes' 'P0Y0M1DT0H30M0.000S'\n",
      " 'ACTIVE: 30 min l TOTAL: 30 min l SERVES: 4 minutes'\n",
      " 'P0Y0M0DT5H40M0.000S' 'P0Y0M3DT0H5M0.000S' 'P0Y0M0DT7H25M0.000S'\n",
      " 'P0Y0M2DT0H15M0.000S' '70.0 minutes' 'P0Y0M0DT0H44M0.000S' '36.0 minutes'\n",
      " '275.0 minutes' '60939.0 minutes' 'P0Y0M0DT11H40M0.000S' '360.0 minutes'\n",
      " 'P0Y0M0DT5H45M0.000S' 'P0Y0M0DT3H35M0.000S' 'P0Y0M1DT6H30M0.000S'\n",
      " 'P0Y0M0DT4H40M0.000S' 'Cook: 2 hr 5 min minutes' 'Cook: 4 min minutes'\n",
      " 'Cook: 40 min minutes' 'P0Y0M0DT12H30M0.000S'\n",
      " 'Active: 1 hr 15 min minutes' 'P0Y0M0DT7H30M0.000S' 'P0Y0M1DT2H0M0.000S'\n",
      " 'P0Y0M0DT18H30M0.000S' '1098.0 minutes' 'P0Y0M0DT1H33M0.000S'\n",
      " 'P0Y0M0DT0H51M0.000S' '182.0 minutes' 'P0Y0M1DT0H25M0.000S'\n",
      " 'P0Y0M0DT8H5M0.000S' 'P0Y0M0DT8H45M0.000S' 'P0Y0M0DT5H15M0.000S'\n",
      " 'P0Y0M0DT9H10M0.000S' '3111.0 minutes' 'P0Y0M0DT1H6M0.000S'\n",
      " 'P0Y0M0DT6H15M0.000S'\n",
      " 'ACTIVE: 15 min l TOTAL: 35 min l SERVES: 4 to 6 minutes' '420.0 minutes'\n",
      " '11.0 minutes' '6039.0 minutes' '7200.0 minutes' 'P0Y0M0DT3H45M0.000S'\n",
      " 'P0Y0M0DT6H10M0.000S' 'P0Y0M21DT0H0M0.000S' 'Cook: 2 hr 30 min minutes'\n",
      " '3000.0 minutes' 'ACTIVE: 20 min l TOTAL: 20 min l SERVES: 4 minutes'\n",
      " 'ACTIVE: 15 min l TOTAL: 45 min l SERVES: 4 to 6 minutes'\n",
      " 'P0Y0M0DT0H33M0.000S' '10248.0 minutes' '480.0 minutes'\n",
      " 'ACTIVE: 10 min l TOTAL: 40 min MAKES: about 4 1/2 cups minutes'\n",
      " 'P0Y0M0DT2H43M0.000S' '335.0 minutes' 'P0Y0M0DT2H18M0.000S'\n",
      " 'Cook: 1 hr 20 min minutes' 'Active: 1 hr 40 min minutes' '720.0 minutes'\n",
      " 'P0Y0M7DT0H0M0.000S' '1.0 minutes' 'P0Y0M0DT6H45M0.000S'\n",
      " 'P0Y0M0DT1H18M0.000S' '1037.0 minutes' 'Active: 1 hr 20 min minutes'\n",
      " 'Active: 55 min minutes' 'P0Y0M0DT4H8M0.000S' 'Total: 20 min minutes'\n",
      " 'Total: 2 hr 30 min minutes' '200.0 minutes' 'P0Y0M0DT11H0M0.000S'] 389\n",
      "['Mediterranean Sea Bass' 'Air Fryer Hard Boiled Eggs'\n",
      " 'Air Fryer Basil-Parmesan Salmon' ... 'Zucchini with Walnut Pesto'\n",
      " 'Zucchini, Potato and Fennel Stew'\n",
      " 'Zucchini, Carrot and Potato Pancakes Recipe '] 55838\n",
      "['4 servings' '4 eggs' '12 servings' ... '30 appetizers' '12 to 14 koftas'\n",
      " '1 zucchini or 1 cup green beans'] 7494\n"
     ]
    }
   ],
   "source": [
    "columns = ['category','cuisine', 'prep_time', 'recipe_name', 'serves']\n",
    "\n",
    "for column in columns:\n",
    "    print(data[column].unique(),data[column].nunique())"
   ]
  },
  {
   "cell_type": "code",
   "execution_count": 7,
   "metadata": {
    "colab": {},
    "colab_type": "code",
    "id": "FnlB87XqltE8"
   },
   "outputs": [],
   "source": [
    "#We can see the values in a lot of fields are the strings nan or [], so we replace it with np.nan for ease\n",
    "\n",
    "data.replace([\"nan\",\"[]\"], np.nan, inplace = True)"
   ]
  },
  {
   "cell_type": "markdown",
   "metadata": {},
   "source": [
    "#### Examine the proportion of missing values"
   ]
  },
  {
   "cell_type": "code",
   "execution_count": 96,
   "metadata": {
    "colab": {
     "base_uri": "https://localhost:8080/",
     "height": 255
    },
    "colab_type": "code",
    "id": "M5Egd_AwltE-",
    "outputId": "4df0ccea-1b66-437f-b004-707554e7b723"
   },
   "outputs": [
    {
     "name": "stdout",
     "output_type": "stream",
     "text": [
      "<class 'pandas.core.frame.DataFrame'>\n",
      "RangeIndex: 82245 entries, 0 to 82244\n",
      "Data columns (total 9 columns):\n",
      "category          0 non-null float64\n",
      "cooking_method    82188 non-null object\n",
      "cuisine           1383 non-null object\n",
      "image             82245 non-null object\n",
      "ingredients       80992 non-null object\n",
      "prep_time         58630 non-null object\n",
      "recipe_name       82245 non-null object\n",
      "serves            82244 non-null object\n",
      "tags              82011 non-null object\n",
      "dtypes: float64(1), object(8)\n",
      "memory usage: 5.6+ MB\n"
     ]
    }
   ],
   "source": [
    "data.info()"
   ]
  },
  {
   "cell_type": "code",
   "execution_count": 97,
   "metadata": {
    "colab": {
     "base_uri": "https://localhost:8080/",
     "height": 187
    },
    "colab_type": "code",
    "id": "4AmdMDV6ltFD",
    "outputId": "b4c7210f-3b0f-472e-f4c4-9e5a394c119c"
   },
   "outputs": [
    {
     "data": {
      "text/plain": [
       "category          82245\n",
       "cooking_method       57\n",
       "cuisine           80862\n",
       "image                 0\n",
       "ingredients        1253\n",
       "prep_time         23615\n",
       "recipe_name           0\n",
       "serves                1\n",
       "tags                234\n",
       "dtype: int64"
      ]
     },
     "execution_count": 97,
     "metadata": {
      "tags": []
     },
     "output_type": "execute_result"
    }
   ],
   "source": [
    "data.isnull().sum() "
   ]
  },
  {
   "cell_type": "code",
   "execution_count": 9,
   "metadata": {
    "colab": {
     "base_uri": "https://localhost:8080/",
     "height": 34
    },
    "colab_type": "code",
    "id": "OvnUKHcmltFG",
    "outputId": "24504235-c52c-4ca2-a0f6-f7787743735b"
   },
   "outputs": [
    {
     "data": {
      "text/plain": [
       "51378.0"
      ]
     },
     "execution_count": 9,
     "metadata": {},
     "output_type": "execute_result"
    }
   ],
   "source": [
    "#From the unique values and counts above, we can see the field prep_time has a lot of fields with values starting with P0Y0M0DT. It's not any time format I'm familiar with and I couldn't make any sense out of it, so I'm considering it the same as nan\n",
    "\n",
    "data.prep_time.str.count(\"P0Y0M0DT\").sum()"
   ]
  },
  {
   "cell_type": "code",
   "execution_count": 11,
   "metadata": {
    "colab": {
     "base_uri": "https://localhost:8080/",
     "height": 670
    },
    "colab_type": "code",
    "id": "IbNpt1KPltFJ",
    "outputId": "460cc7e7-be33-4327-e75e-33cc93554e23"
   },
   "outputs": [
    {
     "data": {
      "text/html": [
       "<div>\n",
       "<style scoped>\n",
       "    .dataframe tbody tr th:only-of-type {\n",
       "        vertical-align: middle;\n",
       "    }\n",
       "\n",
       "    .dataframe tbody tr th {\n",
       "        vertical-align: top;\n",
       "    }\n",
       "\n",
       "    .dataframe thead th {\n",
       "        text-align: right;\n",
       "    }\n",
       "</style>\n",
       "<table border=\"1\" class=\"dataframe\">\n",
       "  <thead>\n",
       "    <tr style=\"text-align: right;\">\n",
       "      <th></th>\n",
       "      <th>Total</th>\n",
       "      <th>Percent</th>\n",
       "    </tr>\n",
       "  </thead>\n",
       "  <tbody>\n",
       "    <tr>\n",
       "      <th>category</th>\n",
       "      <td>82245</td>\n",
       "      <td>1.000000</td>\n",
       "    </tr>\n",
       "    <tr>\n",
       "      <th>cuisine</th>\n",
       "      <td>80862</td>\n",
       "      <td>0.983184</td>\n",
       "    </tr>\n",
       "    <tr>\n",
       "      <th>prep_time</th>\n",
       "      <td>23615</td>\n",
       "      <td>0.287130</td>\n",
       "    </tr>\n",
       "    <tr>\n",
       "      <th>ingredients</th>\n",
       "      <td>1253</td>\n",
       "      <td>0.015235</td>\n",
       "    </tr>\n",
       "    <tr>\n",
       "      <th>tags</th>\n",
       "      <td>234</td>\n",
       "      <td>0.002845</td>\n",
       "    </tr>\n",
       "  </tbody>\n",
       "</table>\n",
       "</div>"
      ],
      "text/plain": [
       "             Total   Percent\n",
       "category     82245  1.000000\n",
       "cuisine      80862  0.983184\n",
       "prep_time    23615  0.287130\n",
       "ingredients   1253  0.015235\n",
       "tags           234  0.002845"
      ]
     },
     "execution_count": 11,
     "metadata": {},
     "output_type": "execute_result"
    },
    {
     "data": {
      "image/png": "[encoded data removed]",
      "text/plain": [
       "<Figure size 1080x432 with 1 Axes>"
      ]
     },
     "metadata": {
      "needs_background": "light"
     },
     "output_type": "display_data"
    }
   ],
   "source": [
    "#Visualize the proportion of missing values\n",
    "\n",
    "import matplotlib.pyplot as plt\n",
    "import seaborn as sns\n",
    "%matplotlib inline\n",
    "\n",
    "total = data.isnull().sum().sort_values(ascending=False)\n",
    "percent = (data.isnull().sum()/data.isnull().count()).sort_values(ascending=False)\n",
    "missing_data = pd.concat([total, percent], axis=1, keys=['Total', 'Percent'])\n",
    "\n",
    "f, ax = plt.subplots(figsize=(15, 6))\n",
    "plt.xticks(rotation='90')\n",
    "\n",
    "sns.barplot(x=missing_data.index, y=missing_data['Percent'])\n",
    "\n",
    "plt.xlabel('Features', fontsize=15)\n",
    "plt.ylabel('Percent of missing values', fontsize=15)\n",
    "plt.title('Percent missing data by feature', fontsize=15)\n",
    "\n",
    "missing_data.head()"
   ]
  },
  {
   "cell_type": "code",
   "execution_count": 12,
   "metadata": {
    "colab": {
     "base_uri": "https://localhost:8080/",
     "height": 983
    },
    "colab_type": "code",
    "id": "q7lnb1pNltFL",
    "outputId": "60b54ba3-fbb6-403e-e600-7e40a759fc41"
   },
   "outputs": [
    {
     "data": {
      "text/html": [
       "<div>\n",
       "<style scoped>\n",
       "    .dataframe tbody tr th:only-of-type {\n",
       "        vertical-align: middle;\n",
       "    }\n",
       "\n",
       "    .dataframe tbody tr th {\n",
       "        vertical-align: top;\n",
       "    }\n",
       "\n",
       "    .dataframe thead th {\n",
       "        text-align: right;\n",
       "    }\n",
       "</style>\n",
       "<table border=\"1\" class=\"dataframe\">\n",
       "  <thead>\n",
       "    <tr style=\"text-align: right;\">\n",
       "      <th></th>\n",
       "      <th>category</th>\n",
       "      <th>cooking_method</th>\n",
       "      <th>cuisine</th>\n",
       "      <th>image</th>\n",
       "      <th>ingredients</th>\n",
       "      <th>prep_time</th>\n",
       "      <th>recipe_name</th>\n",
       "      <th>serves</th>\n",
       "      <th>tags</th>\n",
       "    </tr>\n",
       "  </thead>\n",
       "  <tbody>\n",
       "    <tr>\n",
       "      <th>64602</th>\n",
       "      <td>NaN</td>\n",
       "      <td>[\"Cook sausage in a cast iron skillet. When do...</td>\n",
       "      <td>NaN</td>\n",
       "      <td>https://food.fnr.sndimg.com/content/dam/images...</td>\n",
       "      <td>['1 pound bulk breakfast sausage', '1/4 cup fl...</td>\n",
       "      <td>P0Y0M0DT0H5M0.000S</td>\n",
       "      <td>Sawmill Gravy</td>\n",
       "      <td>2 1/2 cups gravy</td>\n",
       "      <td>NaN</td>\n",
       "    </tr>\n",
       "    <tr>\n",
       "      <th>64666</th>\n",
       "      <td>NaN</td>\n",
       "      <td>['Eat Your Veggies', 'By: Serena Ball, M.S., R...</td>\n",
       "      <td>NaN</td>\n",
       "      <td>https://food.fnr.sndimg.com/content/dam/images...</td>\n",
       "      <td>NaN</td>\n",
       "      <td>0 minutes</td>\n",
       "      <td>Healthy Recipes, Tips and Meal Ideas</td>\n",
       "      <td>0</td>\n",
       "      <td>NaN</td>\n",
       "    </tr>\n",
       "    <tr>\n",
       "      <th>64688</th>\n",
       "      <td>NaN</td>\n",
       "      <td>['Directions', 'Cook a pinch each of saffron a...</td>\n",
       "      <td>NaN</td>\n",
       "      <td>https://food.fnr.sndimg.com/content/dam/images...</td>\n",
       "      <td>NaN</td>\n",
       "      <td>10.0 minutes</td>\n",
       "      <td>Saffron</td>\n",
       "      <td>0</td>\n",
       "      <td>NaN</td>\n",
       "    </tr>\n",
       "    <tr>\n",
       "      <th>64714</th>\n",
       "      <td>NaN</td>\n",
       "      <td>['Directions', 'Preheat oven to 425 degrees. I...</td>\n",
       "      <td>NaN</td>\n",
       "      <td>https://food.fnr.sndimg.com/content/dam/images...</td>\n",
       "      <td>['2 cups sifted all-purpose flour', '1 tablesp...</td>\n",
       "      <td>55.0 minutes</td>\n",
       "      <td>Sage, Bacon, and Cheddar Cream Biscuits Recipe</td>\n",
       "      <td>0</td>\n",
       "      <td>NaN</td>\n",
       "    </tr>\n",
       "    <tr>\n",
       "      <th>64735</th>\n",
       "      <td>NaN</td>\n",
       "      <td>['Add vodka and saki to a cocktail shaker, sti...</td>\n",
       "      <td>NaN</td>\n",
       "      <td>https://food.fnr.sndimg.com/content/dam/images...</td>\n",
       "      <td>['3 ounces vodka', '1/4-ounce saki', 'Cucumber...</td>\n",
       "      <td>NaN</td>\n",
       "      <td>Sakitini</td>\n",
       "      <td>1 martini</td>\n",
       "      <td>NaN</td>\n",
       "    </tr>\n",
       "    <tr>\n",
       "      <th>...</th>\n",
       "      <td>...</td>\n",
       "      <td>...</td>\n",
       "      <td>...</td>\n",
       "      <td>...</td>\n",
       "      <td>...</td>\n",
       "      <td>...</td>\n",
       "      <td>...</td>\n",
       "      <td>...</td>\n",
       "      <td>...</td>\n",
       "    </tr>\n",
       "    <tr>\n",
       "      <th>81842</th>\n",
       "      <td>NaN</td>\n",
       "      <td>['Directions', 'Heat oil over medium high heat...</td>\n",
       "      <td>NaN</td>\n",
       "      <td>https://food.fnr.sndimg.com/content/dam/images...</td>\n",
       "      <td>['3 1/2 pounds of lamb (deboned and cut in 1-i...</td>\n",
       "      <td>61.0 minutes</td>\n",
       "      <td>Yogurt Braised Leg of Lamb Recipe</td>\n",
       "      <td>0</td>\n",
       "      <td>NaN</td>\n",
       "    </tr>\n",
       "    <tr>\n",
       "      <th>82106</th>\n",
       "      <td>NaN</td>\n",
       "      <td>['Directions', 'Grill or broil the sausage in ...</td>\n",
       "      <td>NaN</td>\n",
       "      <td>https://food.fnr.sndimg.com/content/dam/images...</td>\n",
       "      <td>['1/2 pound sweet Italian sausage', '2 pounds ...</td>\n",
       "      <td>0 minutes</td>\n",
       "      <td>Ziti con Broccoli di Rape e Salsicce (Ziti wit...</td>\n",
       "      <td>0</td>\n",
       "      <td>NaN</td>\n",
       "    </tr>\n",
       "    <tr>\n",
       "      <th>82108</th>\n",
       "      <td>NaN</td>\n",
       "      <td>['For the caviar spherification: In a medium b...</td>\n",
       "      <td>NaN</td>\n",
       "      <td>https://food.fnr.sndimg.com/content/dam/images...</td>\n",
       "      <td>[\"Caviar spherification tool kit (see Cook's N...</td>\n",
       "      <td>NaN</td>\n",
       "      <td>Zombie Drink in Edible Glassware</td>\n",
       "      <td>2 to 4 servings</td>\n",
       "      <td>NaN</td>\n",
       "    </tr>\n",
       "    <tr>\n",
       "      <th>82172</th>\n",
       "      <td>NaN</td>\n",
       "      <td>['Make bechamel: Heat milk just until small bu...</td>\n",
       "      <td>NaN</td>\n",
       "      <td>https://food.fnr.sndimg.com/content/dam/images...</td>\n",
       "      <td>['4 tablespoons unsalted butter', '4 tablespoo...</td>\n",
       "      <td>P0Y0M0DT1H0M0.000S</td>\n",
       "      <td>Zucchini Lasagna</td>\n",
       "      <td>6 to 8 servings</td>\n",
       "      <td>NaN</td>\n",
       "    </tr>\n",
       "    <tr>\n",
       "      <th>82184</th>\n",
       "      <td>NaN</td>\n",
       "      <td>['Grate the zucchini and potatoes and toss in ...</td>\n",
       "      <td>NaN</td>\n",
       "      <td>https://food.fnr.sndimg.com/content/dam/images...</td>\n",
       "      <td>['2 pounds zucchini', '1/2 pound russet potato...</td>\n",
       "      <td>P0Y0M0DT0H20M0.000S</td>\n",
       "      <td>Zucchini Parmesan Latkes</td>\n",
       "      <td>24 pancakes</td>\n",
       "      <td>NaN</td>\n",
       "    </tr>\n",
       "  </tbody>\n",
       "</table>\n",
       "<p>234 rows × 9 columns</p>\n",
       "</div>"
      ],
      "text/plain": [
       "       category                                     cooking_method cuisine  \\\n",
       "64602       NaN  [\"Cook sausage in a cast iron skillet. When do...     NaN   \n",
       "64666       NaN  ['Eat Your Veggies', 'By: Serena Ball, M.S., R...     NaN   \n",
       "64688       NaN  ['Directions', 'Cook a pinch each of saffron a...     NaN   \n",
       "64714       NaN  ['Directions', 'Preheat oven to 425 degrees. I...     NaN   \n",
       "64735       NaN  ['Add vodka and saki to a cocktail shaker, sti...     NaN   \n",
       "...         ...                                                ...     ...   \n",
       "81842       NaN  ['Directions', 'Heat oil over medium high heat...     NaN   \n",
       "82106       NaN  ['Directions', 'Grill or broil the sausage in ...     NaN   \n",
       "82108       NaN  ['For the caviar spherification: In a medium b...     NaN   \n",
       "82172       NaN  ['Make bechamel: Heat milk just until small bu...     NaN   \n",
       "82184       NaN  ['Grate the zucchini and potatoes and toss in ...     NaN   \n",
       "\n",
       "                                                   image  \\\n",
       "64602  https://food.fnr.sndimg.com/content/dam/images...   \n",
       "64666  https://food.fnr.sndimg.com/content/dam/images...   \n",
       "64688  https://food.fnr.sndimg.com/content/dam/images...   \n",
       "64714  https://food.fnr.sndimg.com/content/dam/images...   \n",
       "64735  https://food.fnr.sndimg.com/content/dam/images...   \n",
       "...                                                  ...   \n",
       "81842  https://food.fnr.sndimg.com/content/dam/images...   \n",
       "82106  https://food.fnr.sndimg.com/content/dam/images...   \n",
       "82108  https://food.fnr.sndimg.com/content/dam/images...   \n",
       "82172  https://food.fnr.sndimg.com/content/dam/images...   \n",
       "82184  https://food.fnr.sndimg.com/content/dam/images...   \n",
       "\n",
       "                                             ingredients            prep_time  \\\n",
       "64602  ['1 pound bulk breakfast sausage', '1/4 cup fl...   P0Y0M0DT0H5M0.000S   \n",
       "64666                                                NaN            0 minutes   \n",
       "64688                                                NaN         10.0 minutes   \n",
       "64714  ['2 cups sifted all-purpose flour', '1 tablesp...         55.0 minutes   \n",
       "64735  ['3 ounces vodka', '1/4-ounce saki', 'Cucumber...                  NaN   \n",
       "...                                                  ...                  ...   \n",
       "81842  ['3 1/2 pounds of lamb (deboned and cut in 1-i...         61.0 minutes   \n",
       "82106  ['1/2 pound sweet Italian sausage', '2 pounds ...            0 minutes   \n",
       "82108  [\"Caviar spherification tool kit (see Cook's N...                  NaN   \n",
       "82172  ['4 tablespoons unsalted butter', '4 tablespoo...   P0Y0M0DT1H0M0.000S   \n",
       "82184  ['2 pounds zucchini', '1/2 pound russet potato...  P0Y0M0DT0H20M0.000S   \n",
       "\n",
       "                                             recipe_name            serves  \\\n",
       "64602                                      Sawmill Gravy  2 1/2 cups gravy   \n",
       "64666              Healthy Recipes, Tips and Meal Ideas                  0   \n",
       "64688                                            Saffron                 0   \n",
       "64714    Sage, Bacon, and Cheddar Cream Biscuits Recipe                  0   \n",
       "64735                                           Sakitini         1 martini   \n",
       "...                                                  ...               ...   \n",
       "81842                 Yogurt Braised Leg of Lamb Recipe                  0   \n",
       "82106  Ziti con Broccoli di Rape e Salsicce (Ziti wit...                 0   \n",
       "82108                   Zombie Drink in Edible Glassware   2 to 4 servings   \n",
       "82172                                   Zucchini Lasagna   6 to 8 servings   \n",
       "82184                           Zucchini Parmesan Latkes       24 pancakes   \n",
       "\n",
       "      tags  \n",
       "64602  NaN  \n",
       "64666  NaN  \n",
       "64688  NaN  \n",
       "64714  NaN  \n",
       "64735  NaN  \n",
       "...    ...  \n",
       "81842  NaN  \n",
       "82106  NaN  \n",
       "82108  NaN  \n",
       "82172  NaN  \n",
       "82184  NaN  \n",
       "\n",
       "[234 rows x 9 columns]"
      ]
     },
     "execution_count": 12,
     "metadata": {},
     "output_type": "execute_result"
    }
   ],
   "source": [
    "#Examine the rows where the target variable is missing to check if the corresponding features are missing or corrupt\n",
    "\n",
    "data[data['tags'].isna()]"
   ]
  },
  {
   "cell_type": "code",
   "execution_count": 13,
   "metadata": {
    "colab": {},
    "colab_type": "code",
    "id": "jwsasarAAF7X"
   },
   "outputs": [],
   "source": [
    "#Recipes with no target tags can be used to test the final model, so we extract and store them in a list for later use\n",
    "\n",
    "test_sample = data[data['tags'].isna()].cooking_method\n",
    "test_sample = test_sample.tolist()"
   ]
  },
  {
   "cell_type": "markdown",
   "metadata": {
    "colab_type": "text",
    "id": "S3huTyJMIGm4"
   },
   "source": [
    "### Data Pre-processing\n",
    "* Rows without any null values are only around 1400. \n",
    "* We would have to either drop the fields prep_time and serves or impute the missing values by building a sub-model to predict the missing values.\n",
    "* Dropping that many data items would adversely affect our model as both prep_time and serves are fields that matter when creating tags whereas building a submodel would be a computational overhead.\n",
    "* A neural net could infer details like the prep_time and serving amount from the recipe alone. Given all the missing values, I think a neural net trained on cooking_method alone is the best approach here"
   ]
  },
  {
   "cell_type": "code",
   "execution_count": 14,
   "metadata": {
    "colab": {},
    "colab_type": "code",
    "id": "dFumQLLeltFQ"
   },
   "outputs": [],
   "source": [
    "data.dropna(subset=['tags','cooking_method'], how='any', inplace=True)\n",
    "\n",
    "data = data.reset_index(drop=True)"
   ]
  },
  {
   "cell_type": "code",
   "execution_count": 15,
   "metadata": {
    "colab": {
     "base_uri": "https://localhost:8080/",
     "height": 119
    },
    "colab_type": "code",
    "id": "sdw6ORdBltFT",
    "outputId": "2e17558e-8b62-436b-82d6-a4fd25c872a1"
   },
   "outputs": [
    {
     "data": {
      "text/plain": [
       "category          81957\n",
       "cooking_method        0\n",
       "cuisine           80577\n",
       "image                 0\n",
       "ingredients        1231\n",
       "prep_time         23547\n",
       "recipe_name           0\n",
       "serves                1\n",
       "tags                  0\n",
       "dtype: int64"
      ]
     },
     "execution_count": 15,
     "metadata": {},
     "output_type": "execute_result"
    }
   ],
   "source": [
    "data.isnull().sum() "
   ]
  },
  {
   "cell_type": "code",
   "execution_count": 16,
   "metadata": {
    "colab": {
     "base_uri": "https://localhost:8080/",
     "height": 34
    },
    "colab_type": "code",
    "id": "Am_T8ncultFW",
    "outputId": "d925e639-8687-4d02-85b2-ffa0e4d3b047"
   },
   "outputs": [
    {
     "data": {
      "text/plain": [
       "(81957, 9)"
      ]
     },
     "execution_count": 16,
     "metadata": {},
     "output_type": "execute_result"
    }
   ],
   "source": [
    "data.shape"
   ]
  },
  {
   "cell_type": "markdown",
   "metadata": {
    "colab_type": "text",
    "id": "VavNf3VNKJnl"
   },
   "source": [
    "###### Extracting target tags and splitting them into labels"
   ]
  },
  {
   "cell_type": "code",
   "execution_count": 17,
   "metadata": {
    "colab": {},
    "colab_type": "code",
    "id": "Q8SuieD2ltFY"
   },
   "outputs": [],
   "source": [
    "target = data.tags"
   ]
  },
  {
   "cell_type": "code",
   "execution_count": 18,
   "metadata": {
    "colab": {},
    "colab_type": "code",
    "id": "XuDlomVpltFb"
   },
   "outputs": [],
   "source": [
    "labels = list()"
   ]
  },
  {
   "cell_type": "code",
   "execution_count": 19,
   "metadata": {
    "colab": {},
    "colab_type": "code",
    "id": "KquyLoV9ltFe"
   },
   "outputs": [],
   "source": [
    "for item in target:\n",
    "    temp = item.split(',')\n",
    "    for x in temp:\n",
    "        x_ = x.strip()\n",
    "        if x_ not in labels:\n",
    "            labels.append(x_) \n",
    "    else:\n",
    "            continue"
   ]
  },
  {
   "cell_type": "code",
   "execution_count": 20,
   "metadata": {
    "colab": {
     "base_uri": "https://localhost:8080/",
     "height": 34
    },
    "colab_type": "code",
    "id": "wQHyB6ttltFg",
    "outputId": "c04e9bf9-63bf-4df8-c767-e8909cd25536"
   },
   "outputs": [
    {
     "name": "stdout",
     "output_type": "stream",
     "text": [
      "765\n"
     ]
    }
   ],
   "source": [
    "num_labels = len(labels)\n",
    "print(num_labels)"
   ]
  },
  {
   "cell_type": "code",
   "execution_count": 21,
   "metadata": {
    "colab": {
     "base_uri": "https://localhost:8080/",
     "height": 1000
    },
    "colab_type": "code",
    "id": "DHWkD722ltFl",
    "outputId": "728731de-f1bf-41b8-ccf9-f2f5620a1893"
   },
   "outputs": [
    {
     "name": "stdout",
     "output_type": "stream",
     "text": [
      "['Dairy Free', 'Gluten Free', 'Keto Recipes', 'Kid Friendly', 'Low Carb', 'Under 30 Minutes', 'Air Fryer Recipes', 'Paleo', 'Vegetarian Meals', 'Whole 30 Recipes', 'Meal Prep Recipes', 'Freezer Meals', 'Slow Cooker Recipes', 'Pressure Cooker Recipes', 'Healthy', 'Indian Recipes', 'Smoothie Recipes', 'Dairy Recipes', 'Fruit', 'Mango', 'Pureeing Recipes', 'Low-Fat', 'Low Sodium', 'Easy Snack Recipes', 'Easy', 'Snack', 'Banana', 'Cucumber', 'Vegetable', 'Watermelon Recipes', 'Heart-Healthy', 'Low Calorie', 'Low-Cholesterol', 'Strawberry', 'Peach Recipes', 'Brunch', 'Breakfast', 'Peanut Butter', 'Tea Recipes', 'Grain Recipes', 'Oats', 'Pineapples', 'High Fiber', 'Vegan', 'Coffee Recipes', 'Frozen Drink Recipes', 'Papaya Recipes', 'Summer', 'Chocolate', 'Almond Recipes', 'Nut Recipes', 'Easy Breakfast Recipes', 'Healthy Breakfast', 'Avocado', 'Blueberry', 'Buttermilk', 'Orange Recipes', 'Coconut Recipes', 'Main Dish', 'Vegetarian', 'Raspberry Recipes', 'Recipes for Two', 'Ice Cream', 'Dessert', 'Pomegranate Recipes', '4th of July', 'Holiday', 'Easy Brunch Recipes', 'Healthy Brunch Recipes', 'Caribbean', 'Spinach', 'American', 'Pumpkin', 'Thanksgiving', 'Sugar', 'Honeydew Recipes', 'Kale', 'Apple', 'Beet', 'Sauce Recipes', 'Diabetes-Friendly', 'Lemon', 'Grape Recipes', 'Kid-Friendly', 'Tofu Recipes', 'Liquor Recipes', 'Vodka Recipes', 'Easy Dessert Recipes', 'Lunch', 'Melon Recipes', 'Fruit Dessert Recipes', 'Easter', 'Christmas', 'Asian', 'Carrot Recipes', 'Zucchini Recipes', 'Cherry', 'Honey Recipes', 'Blackberry', 'Coffee Drinks', 'Spring', 'Recipes for Parties', 'Kiwi Recipes', 'Appetizer', 'Mixed Drink Recipes', 'Lime Recipes', 'Mixer Recipes', 'Recipes for a Crowd', 'Wheat Recipes', 'Raisin Recipes', 'Low-Carb', 'European Recipes', 'Irish Recipes', 'Cranberry', 'Easy Grilling Recipes', 'Grilling', 'Rum Recipes', 'Italian Dessert Recipes', 'Italian', 'Roasting', 'Celery', 'Brandy', 'Make Ahead', 'Clam Recipes', 'Shellfish Recipes', 'Scallop Recipes', 'Squid Recipes', 'Roasted Turkey', 'Poultry', 'Turkey Recipes', 'Baking', 'Cupcake', 'Skillet Recipes', 'Bass', 'Fish', 'Wine Recipes', 'Tomato', 'Mussel', 'Eggplant Recipes', 'Lemonade Recipes', 'Saffron Rice', 'Rice Recipes', 'Spanish', 'Chicken', 'Beans and Legumes', 'Pea Recipes', 'Shrimp', 'Chorizo', 'Sausage Recipes', 'Lobster', 'Dinner Parties', 'Sauteing Recipes', 'Steamer', 'Pie Recipes', 'Beef', 'Meat', 'Corn Recipes', 'Dutch Oven', 'Steak', 'Bacon Recipes', 'Hot Dog Restaurants', 'Cake', 'Egg Recipes', 'Oatmeal Recipes', 'Cheesy Potatoes', 'Cheese', 'Potato', 'Burger', 'Tomato Side Dish', 'Side Dish', 'Olive Recipes', 'Anchovy', 'Provolone Recipes', 'Pork', 'Mozzarella Recipes', 'Easy Main Dish', 'Easy Baking', 'Chocolate Cake', 'Easy Shrimp Recipes', 'Easy Lunch Recipes', 'Grilled Shrimp', 'Quesadilla', 'Cheddar', 'Green Bean Salad', 'Green Bean', 'Salad Recipes', 'Bean Salad', 'Easy Chicken', 'Wok Recipes', 'Shallot Recipes', 'Stir-Frying Recipes', 'Easy Side Dish Recipes', 'Tomato Salad', 'Lettuce Recipes', 'Halloween', 'Easter Desserts', 'Halloween Dessert Recipes', 'Potato Soup', 'Vegetable Soup', 'Soup', 'Leek Recipes', 'Cookie', 'Thanksgiving Appetizers', 'Thanksgiving Side Dishes', 'Monterey Jack Recipes', 'Stuffing', 'Mushroom', 'Crab Recipes', 'Hard Boiled Eggs', 'Asparagus', 'Roasted Vegetable', 'Cast Iron Skillet', 'African', 'Southern Recipes', 'Sandwich', 'Bell Peppers', 'Cornmeal', 'Easy Appetizer', 'Apple Dessert', 'Artichoke Appetizer', 'Artichoke', 'Feta', 'Tuna Recipes', 'Fall', 'Bruschetta Recipes', 'Cocktail Party', 'Cream Cheese Recipes', 'Caramelizing', 'Ham', 'Beet Salad', 'Candied Pecan', 'Lamb Recipes', 'Dip', 'Ribs Recipes', 'Pork Chop', 'Punch Recipes', 'Chile Peppers', 'Martini', 'Gin Recipes', 'Macaroni and Cheese', 'Pasta Recipes', 'Gruyere Recipes', 'Broiling', 'Muffin', 'Beef Chili', 'Chili', 'Super Bowl', 'Tailgate Party', 'Brownie', 'Cinco de Mayo', 'Pickle Recipes', 'Hawaiian Recipes', 'Carrot Soup', 'Noodles', 'Winter', 'Minestrone Recipes', 'Cream Cheese Frosting', 'Liqueur Recipes', 'Cucumber Salad', 'Shrimp Salad', 'Margarita', 'Sorbet Recipes', 'Pesto Recipes', 'Snapper Recipes', 'Onion Recipes', 'Deep-Frying', 'Thanksgiving Turkey', 'Roast Recipes', 'Mexican Chicken', 'Chicken and Dumpling', 'Jalapeno Recipes', 'Marinating Recipes', 'Cornish Hen', 'Pulled Pork', 'Pork Loin', 'Southwestern', 'Quail Recipes', 'Gelatin Recipes', 'Picnic Salad Recipes', 'Cod Recipes', 'Crab Salad', 'Potato Salad', 'Easy Pasta Recipes', 'Arugula', 'Egg Noodle Recipes', 'Acorn Squash', 'Chips', 'Squash', 'Pastry Recipes', 'Blue Cheese', 'Goat Cheese Recipes', 'Easy Dinner Recipes', 'Whiskey Recipes', 'Barbecue Restaurants', 'Pork Roast', 'Roasted Tomato', 'Poaching Recipes', 'Roasted Potato', 'Mashed Potato', 'Veal', 'Taco', 'Queso', 'Chicken Wing', 'Grilled Chicken', 'Salsa', 'Fried Chicken', 'Plum Recipes', 'Spinach Salad', 'Chicken Salad', 'Outdoor Party', 'Grilled Steak', 'Brown Rice', 'Turkey Breast', 'Chicken and Rice', 'Greek Recipes', 'Pasta Salad', 'Orzo Recipes', 'Gelato', 'Middle Eastern Recipes', 'Beef Stew', 'Stew Recipes', 'Chicken Stew', 'Collard Greens', 'Candy Recipes and Ideas', 'Fondue Recipes', 'Salad Dressing Recipes', 'Scone Recipes', 'Bolognese', 'Cantaloupe', 'Barbecuing', 'Asian Appetizer', 'Water Chestnut Recipes', 'Cabbage Recipes', 'Mandarin Orange Recipes', 'Caviar', 'Sushi Recipes', 'Asian Salad', 'Macadamia Nut Recipes', 'Carrot Salad', 'Memorial Day Recipes', 'Fathers Day Recipes', 'French Recipes', 'Banana Bread', 'Brussels Sprouts', 'Fried Rice', 'Swedish', 'Meatballs', 'Stuffed Mushroom Recipes', 'Teriyaki', 'Salmon', 'Broccoli', 'Sugar Cookie', 'Peruvian', 'Short Ribs', 'Quinoa', 'Cuban Recipes', 'Black-Eyed Pea', 'Pork Butt', 'French Toast Recipes', 'Rhubarb Recipes', 'Brie', 'Halibut Recipes', 'Healthy Snack', 'Meatball Appetizer', 'Puerto Rican Recipes', 'Plantain Recipes', 'Hot Chocolate', 'Valentines Day', 'Grilled Salmon', 'Sturgeon Recipes', 'Brined Turkey', 'Biscuit', 'Beer', 'Parmesan Cheese Recipes', 'New Years', 'Scalloped Potato', 'Alfredo', 'Casserole', 'Spaghetti', 'Bourbon', 'Tangerine Recipes', 'Pizza Restaurants', 'Pear Recipes', 'Swiss Cheese Recipes', 'Cheeseburger', 'Meatloaf', 'Apricot', 'Pie Crust Recipes', 'Pot Pie Recipes', 'Lasagna Recipes', 'Waffle Recipes', 'Pancake', 'Cheese Dip', 'Pork Shoulder', 'Slow-Cooker', 'Chinese Recipes', 'Fries', 'Gouda Recipes', 'Christmas Dinner', 'Gravy', 'Apple Butter', 'Eggplant Parmesan', 'Chocolate Cookie Recipes', 'Risotto Recipes', 'Biscotti', 'Broccoli Salad', 'Broccoli Side Dish', 'Shortbread Cookie', 'Christmas Cookie', 'Caesar Salad', 'Fig Recipes', 'Banana Cake', 'Jewish Cooking', 'Rosh Hashana', 'Passover', 'Cereal', 'Cherry Pie', 'Granola Recipes', 'Basmati Rice', 'Blackberry Dessert', 'Food Processor', 'Easter Cupcake', 'Chocolate Frosting', 'White Chocolate', 'Bundt Cake', 'Polenta Recipes', 'Cashew Recipes', 'Wedding Recipes', 'Christmas Candy', 'Thanksgiving Desserts', 'Bread', 'Wild Rice Recipes', 'Omelet Recipes', 'Chicken Breast', 'Garlic Bread', 'Broccoli Soup', 'Cranberry Relish', 'Cajun', 'Pumpkin Cheesecake', 'Cheesecake', 'Spicy Shrimp', 'Artichoke Dip', 'Spinach Dip', 'Steak Salad', 'Tequila Recipes', 'Cauliflower', 'Chocolate Cupcake', 'Lamb Stew', 'Roasted Chicken', 'Healthy Dinner', 'Osso Buco', 'Chocolate Chip Cookie', 'Chocolate Fondue', 'Soft Drink Recipes', 'Nectarine Recipes', 'Pumpkin Pie', 'Prosecco Recipes', 'British', 'Tiramisu', 'Grapefruit Recipes', 'Coconut Cake', 'No-Cook Recipes', 'Italian Pizza', 'Sauerkraut', 'Ham Salad', 'Guava Recipes', 'Tortilla Soup', 'Butternut Squash Soup', 'Butternut Squash', 'Turkey Chili', 'Radish Recipes', 'Pudding Recipes', 'Cornbread', 'Andouille Sausage', 'Mardi Gras', 'Jambalaya Recipes', 'Gumbo Recipes', 'Grits Recipes', 'Angel Food Cake', 'Ice Cream Cake', 'Blueberry Cake', 'Sweet Potato', 'Grilled Vegetable', 'Bean Soup', 'Lentil Recipes', 'Caramel Apple', 'Cobbler Recipes', 'Italian Meatball', 'Grouper Recipes', 'Peanut Butter Balls', 'Fruit Salad', 'Antipasti', 'Penne Recipes', 'Flank Steak', 'Award Show Recipes', 'Deviled Egg', 'Ricotta', 'Austrian Recipes', 'Easy Casserole Recipes', 'Vegetable Casserole', 'Baked Beans', 'Turkish', 'Doughnut Recipes', 'Apple Pie', 'Bread Pudding', 'Labor Day', 'Apple Cobbler', 'Comfort Food Restaurants', 'Applesauce', 'Apple Cake', 'Apple Cider', 'Grilled Pork Chop', 'Panini Recipes', 'Snickerdoodle', 'Smoked Salmon', 'Creme Brulee', 'Coffee Cake', 'Thanksgiving Stuffing and Dressing', 'Rum Cake', 'Crepe Recipes', 'Apple Crisp', 'Breakfast Casserole', 'Apple Fritter', 'Pork Tenderloin', 'Smoked Pork', 'Healthy Lunch', 'Healthy Grilling Recipes', 'Turkey Burger', 'Peach Cobbler', 'Bananas Foster', 'Sangria Recipes', 'Empanada Recipes', 'Apple Strudel', 'Microwave Recipes', 'Candied Walnut', 'Blueberry Pie', 'Stuffed Pork Chops', 'Canadian', 'Turnip Recipes', 'Berry Cobbler', 'Russian', 'Pecan Pie', 'Venison Recipes', 'Pork Rib', 'Couscous', 'Duck Recipes', 'Rice Pudding', 'Sparkling Wine Recipes', 'Seafood Soup', 'Scandinavian Recipes', 'Ginger Snap', 'Mushroom Soup', 'Tomato Soup', 'Thai', 'Tomatillos', 'Venezuelan', 'Lobster Salad', 'Argentinean Recipes', 'Swordfish', 'Birthday Party', 'Latin American Recipes', 'Filipino Recipes', 'Mexican Rice', 'Central American', 'Spanish Rice', 'Cannoli', 'Ratatouille', 'Quiche', 'Stuffed Chicken Breast', 'Mothers Day Recipes', 'Ravioli', 'Cornbread Dressing', 'Farro Recipes', 'Christmas Appetizer', 'Healthy Mexican Recipes', 'Roasted Broccoli', 'Chinese New Year', 'Yam', 'Chicken Noodle Soup', 'Asian Noodle', 'Edamame Recipes', 'Chicken Thigh', 'Orzo Salad', 'Chicken Soup', 'Mushroom Risotto', 'Pheasant Recipes', 'Trout Recipes', 'Mushroom Salad', 'Sesame Chicken', 'Buckwheat', 'Mojito Recipes', 'Baked Fish', 'Mahi Mahi Recipes', 'Frittata', 'Zabaglione', 'Portobello Mushroom', 'Chocolate Fudge', 'Fudge Recipes', 'Crab Cake', 'Red Potato Recipes', 'Shrimp Cocktail', 'Jamaican Recipes', 'Hummus Recipes', 'Guacamole', 'Cobb Salad', 'Roast Beef', 'Turkey Meatloaf', 'Spaghetti Squash', 'Chowder', 'Lobster Roll', 'Banana Split', 'Portuguese Recipes', 'Eel Recipes', 'Oyster Recipes', 'Lima Bean Recipes', 'Chicken Curry', 'Curry Recipes', 'Vietnamese Recipes', 'Salty Recipes', 'Hamburger', 'Focaccia Recipes', 'Falafel Recipes', 'Beef Tenderloin', 'Strata', 'Potato Pancake', 'Burrito', 'Grilled Cheese Recipes', 'Rutabaga Recipes', 'Pineapple Upside Down Cake', 'Baked Salmon', 'Onion Ring Recipes', 'Satay', 'Tilapia Recipes', 'Baked Chicken', 'Baked Apple', 'Banana Pudding', 'Barley', 'Bean Chili', 'Baked Potato', 'Blueberry Pancake', 'Catfish', 'Colby', 'Fajita Recipes', 'Coconut Shrimp', 'Cranberry Sauce', 'Millet', 'Baked Tilapia', 'Gnocchi', 'Baked Ham', 'Orange Chicken', 'Baked Spaghetti', 'Polish Recipes', 'Potato Casserole', 'Sweet And Sour Chicken', 'Flounder Recipes', 'Easy Tilapia Recipes', 'London Broil', 'Leg of Lamb', 'Eggnog', 'Chocolate Pie', 'Okra Recipes', 'Yuca', 'Banana Cream Pie', 'Daiquiri Recipes', 'Dessert Pizza', 'Kale Chips', 'Budget-Friendly', 'Greek Salad', 'Japanese Recipes', 'Pizza Dough', 'Thai Chicken', 'Chicken Casserole', 'Korean Recipes', 'Beef Bourguignon', 'Prime Rib', 'Enchilada', 'Pot Roast', 'Shepherds Pie Recipes', 'Beef Stroganoff', 'Filet Mignon', 'Spinach Casserole', 'Beef Wellington', 'Cabbage Soup', 'Green Bean Casserole', 'Crawfish', 'Cheese Ball', 'Oven Fried Chicken', 'Carrot Cake', 'Sausage Gravy', 'Fruit Cheesecake', 'New York Strip Steak', 'Chocolate Cheesecake', 'German Chocolate Cake', 'Gingerbread', 'Lobster Ravioli', 'Coffee Liqueur', 'Red Velvet Cake', 'Crab Dip', 'Cinnamon Roll', 'Blueberry Muffin', 'Jerk Chicken', 'Sausage Casserole', 'Eggplant Casserole', 'Smores', 'Boston Cream Pie', 'Rye Flour Recipes', 'Chess Pie', 'Rockfish', 'Pepper Steak', 'Goose Recipes', 'Veal Chop', 'Sweet Potato Pie', 'Brazilian', 'Tuna Salad', 'Breakfast Pizza', 'Fruit Pizza', 'Smoked Turkey', 'Broccoli Casserole', 'Lobster Tail', 'Pumpkin Soup', 'Fruitcake', 'Oatmeal Cookie', 'Yule Log', 'Panna Cotta', 'Comfort Food', 'Peanut Butter Fudge', 'Peanut Brittle', 'Butternut Squash Risotto', 'Rice Casserole', 'Squash Casserole', 'Stuffed Shells', 'Tortellini Recipes', 'Persimmon Recipes', 'Strawberry Cheesecake', 'Strawberry Shortcake', 'Chicken Chili', 'White Chicken Chili', 'Chicken Cacciatore', 'Cacciatore', 'Chicken Cordon Bleu', 'Pierogi', 'Chicken Piccata', 'Gingerbread Cookie', 'Peanut Butter Pie', 'Peanut Butter Cookie Recipes', 'Couscous Salad', 'Turkey Gravy', 'St. Patricks Day', 'Shrimp Creole', 'Lobster Bisque', 'Salmon Salad', 'Salmon Mousse', 'Salmon Burger', 'Split Pea Soup', 'Lentil Soup', 'Long Island Iced Tea', 'Sponge Cake', 'Teriyaki Chicken', 'Lebanese Recipes', 'Salisbury Steak', 'Sweet Potato Casserole', 'Lemon Meringue Pie', 'Pumpkin Cake', 'Rhubarb Crisp', 'Sweet and Sour Pork']\n"
     ]
    }
   ],
   "source": [
    " print(labels)"
   ]
  },
  {
   "cell_type": "markdown",
   "metadata": {
    "colab_type": "text",
    "id": "yjiIbgKgKTG9"
   },
   "source": [
    "#### Label Encoding\n",
    "* A column corresponding to each tag is added to the dataframe and marked with 1 if the tag corresponds to a given recipe"
   ]
  },
  {
   "cell_type": "code",
   "execution_count": 23,
   "metadata": {
    "colab": {},
    "colab_type": "code",
    "id": "aQUYDn_rltFp"
   },
   "outputs": [],
   "source": [
    "for label in labels:\n",
    "    data[label]=0"
   ]
  },
  {
   "cell_type": "code",
   "execution_count": 24,
   "metadata": {
    "colab": {
     "base_uri": "https://localhost:8080/",
     "height": 797
    },
    "colab_type": "code",
    "id": "pUa2R-C-ltFu",
    "outputId": "e84fae66-4be7-4d43-886d-6e80509e5ca8"
   },
   "outputs": [
    {
     "data": {
      "text/html": [
       "<div>\n",
       "<style scoped>\n",
       "    .dataframe tbody tr th:only-of-type {\n",
       "        vertical-align: middle;\n",
       "    }\n",
       "\n",
       "    .dataframe tbody tr th {\n",
       "        vertical-align: top;\n",
       "    }\n",
       "\n",
       "    .dataframe thead th {\n",
       "        text-align: right;\n",
       "    }\n",
       "</style>\n",
       "<table border=\"1\" class=\"dataframe\">\n",
       "  <thead>\n",
       "    <tr style=\"text-align: right;\">\n",
       "      <th></th>\n",
       "      <th>category</th>\n",
       "      <th>cooking_method</th>\n",
       "      <th>cuisine</th>\n",
       "      <th>image</th>\n",
       "      <th>ingredients</th>\n",
       "      <th>prep_time</th>\n",
       "      <th>recipe_name</th>\n",
       "      <th>serves</th>\n",
       "      <th>tags</th>\n",
       "      <th>Dairy Free</th>\n",
       "      <th>...</th>\n",
       "      <th>Long Island Iced Tea</th>\n",
       "      <th>Sponge Cake</th>\n",
       "      <th>Teriyaki Chicken</th>\n",
       "      <th>Lebanese Recipes</th>\n",
       "      <th>Salisbury Steak</th>\n",
       "      <th>Sweet Potato Casserole</th>\n",
       "      <th>Lemon Meringue Pie</th>\n",
       "      <th>Pumpkin Cake</th>\n",
       "      <th>Rhubarb Crisp</th>\n",
       "      <th>Sweet and Sour Pork</th>\n",
       "    </tr>\n",
       "  </thead>\n",
       "  <tbody>\n",
       "    <tr>\n",
       "      <th>0</th>\n",
       "      <td>NaN</td>\n",
       "      <td>['Set the racks in the middle and upper thirds...</td>\n",
       "      <td>['American']</td>\n",
       "      <td>https://www.skinnytaste.com/wp-content/uploads...</td>\n",
       "      <td>['1 tablespoons extra virgin olive oil', '1 cu...</td>\n",
       "      <td>20 minutes</td>\n",
       "      <td>Mediterranean Sea Bass</td>\n",
       "      <td>4 servings</td>\n",
       "      <td>Dairy Free, Gluten Free, Keto Recipes, Kid Fri...</td>\n",
       "      <td>0</td>\n",
       "      <td>...</td>\n",
       "      <td>0</td>\n",
       "      <td>0</td>\n",
       "      <td>0</td>\n",
       "      <td>0</td>\n",
       "      <td>0</td>\n",
       "      <td>0</td>\n",
       "      <td>0</td>\n",
       "      <td>0</td>\n",
       "      <td>0</td>\n",
       "      <td>0</td>\n",
       "    </tr>\n",
       "    <tr>\n",
       "      <th>1</th>\n",
       "      <td>NaN</td>\n",
       "      <td>['Place the eggs in the air fryer basket and c...</td>\n",
       "      <td>['American']</td>\n",
       "      <td>https://www.skinnytaste.com/wp-content/uploads...</td>\n",
       "      <td>['4 large eggs', 'Salt (black pepper, everythi...</td>\n",
       "      <td>15 minutes</td>\n",
       "      <td>Air Fryer Hard Boiled Eggs</td>\n",
       "      <td>4 eggs</td>\n",
       "      <td>Air Fryer Recipes, Dairy Free, Gluten Free, Ke...</td>\n",
       "      <td>0</td>\n",
       "      <td>...</td>\n",
       "      <td>0</td>\n",
       "      <td>0</td>\n",
       "      <td>0</td>\n",
       "      <td>0</td>\n",
       "      <td>0</td>\n",
       "      <td>0</td>\n",
       "      <td>0</td>\n",
       "      <td>0</td>\n",
       "      <td>0</td>\n",
       "      <td>0</td>\n",
       "    </tr>\n",
       "    <tr>\n",
       "      <th>2</th>\n",
       "      <td>NaN</td>\n",
       "      <td>['Air Fryer directions:', 'Preheat air fryer t...</td>\n",
       "      <td>['American']</td>\n",
       "      <td>https://www.skinnytaste.com/wp-content/uploads...</td>\n",
       "      <td>['olive oil spray', '4 about 5 ounce each salm...</td>\n",
       "      <td>5 minutes</td>\n",
       "      <td>Air Fryer Basil-Parmesan Salmon</td>\n",
       "      <td>4 servings</td>\n",
       "      <td>Air Fryer Recipes, Gluten Free, Keto Recipes, ...</td>\n",
       "      <td>0</td>\n",
       "      <td>...</td>\n",
       "      <td>0</td>\n",
       "      <td>0</td>\n",
       "      <td>0</td>\n",
       "      <td>0</td>\n",
       "      <td>0</td>\n",
       "      <td>0</td>\n",
       "      <td>0</td>\n",
       "      <td>0</td>\n",
       "      <td>0</td>\n",
       "      <td>0</td>\n",
       "    </tr>\n",
       "    <tr>\n",
       "      <th>3</th>\n",
       "      <td>NaN</td>\n",
       "      <td>['Preheat the oven to 400F.', 'Pour 2 tablespo...</td>\n",
       "      <td>['American']</td>\n",
       "      <td>https://www.skinnytaste.com/wp-content/uploads...</td>\n",
       "      <td>['1/2 cup freshly grated Parmesan (not pre-gra...</td>\n",
       "      <td>15 minutes</td>\n",
       "      <td>Everything Parmesan Crisps</td>\n",
       "      <td>4 servings</td>\n",
       "      <td>Gluten Free, Keto Recipes, Kid Friendly, Low C...</td>\n",
       "      <td>0</td>\n",
       "      <td>...</td>\n",
       "      <td>0</td>\n",
       "      <td>0</td>\n",
       "      <td>0</td>\n",
       "      <td>0</td>\n",
       "      <td>0</td>\n",
       "      <td>0</td>\n",
       "      <td>0</td>\n",
       "      <td>0</td>\n",
       "      <td>0</td>\n",
       "      <td>0</td>\n",
       "    </tr>\n",
       "    <tr>\n",
       "      <th>4</th>\n",
       "      <td>NaN</td>\n",
       "      <td>['Cook potatoes in a large pot of salted water...</td>\n",
       "      <td>['American']</td>\n",
       "      <td>https://www.skinnytaste.com/wp-content/uploads...</td>\n",
       "      <td>['3 1/2 pounds new potatoes (about 10 peeled a...</td>\n",
       "      <td>10 minutes</td>\n",
       "      <td>Potato and Green Bean Salad</td>\n",
       "      <td>12 servings</td>\n",
       "      <td>Dairy Free, Gluten Free, Kid Friendly, Vegetar...</td>\n",
       "      <td>0</td>\n",
       "      <td>...</td>\n",
       "      <td>0</td>\n",
       "      <td>0</td>\n",
       "      <td>0</td>\n",
       "      <td>0</td>\n",
       "      <td>0</td>\n",
       "      <td>0</td>\n",
       "      <td>0</td>\n",
       "      <td>0</td>\n",
       "      <td>0</td>\n",
       "      <td>0</td>\n",
       "    </tr>\n",
       "  </tbody>\n",
       "</table>\n",
       "<p>5 rows × 774 columns</p>\n",
       "</div>"
      ],
      "text/plain": [
       "   category                                     cooking_method       cuisine  \\\n",
       "0       NaN  ['Set the racks in the middle and upper thirds...  ['American']   \n",
       "1       NaN  ['Place the eggs in the air fryer basket and c...  ['American']   \n",
       "2       NaN  ['Air Fryer directions:', 'Preheat air fryer t...  ['American']   \n",
       "3       NaN  ['Preheat the oven to 400F.', 'Pour 2 tablespo...  ['American']   \n",
       "4       NaN  ['Cook potatoes in a large pot of salted water...  ['American']   \n",
       "\n",
       "                                               image  \\\n",
       "0  https://www.skinnytaste.com/wp-content/uploads...   \n",
       "1  https://www.skinnytaste.com/wp-content/uploads...   \n",
       "2  https://www.skinnytaste.com/wp-content/uploads...   \n",
       "3  https://www.skinnytaste.com/wp-content/uploads...   \n",
       "4  https://www.skinnytaste.com/wp-content/uploads...   \n",
       "\n",
       "                                         ingredients   prep_time  \\\n",
       "0  ['1 tablespoons extra virgin olive oil', '1 cu...  20 minutes   \n",
       "1  ['4 large eggs', 'Salt (black pepper, everythi...  15 minutes   \n",
       "2  ['olive oil spray', '4 about 5 ounce each salm...   5 minutes   \n",
       "3  ['1/2 cup freshly grated Parmesan (not pre-gra...  15 minutes   \n",
       "4  ['3 1/2 pounds new potatoes (about 10 peeled a...  10 minutes   \n",
       "\n",
       "                       recipe_name       serves  \\\n",
       "0           Mediterranean Sea Bass   4 servings   \n",
       "1       Air Fryer Hard Boiled Eggs       4 eggs   \n",
       "2  Air Fryer Basil-Parmesan Salmon   4 servings   \n",
       "3       Everything Parmesan Crisps   4 servings   \n",
       "4      Potato and Green Bean Salad  12 servings   \n",
       "\n",
       "                                                tags  Dairy Free  ...  \\\n",
       "0  Dairy Free, Gluten Free, Keto Recipes, Kid Fri...           0  ...   \n",
       "1  Air Fryer Recipes, Dairy Free, Gluten Free, Ke...           0  ...   \n",
       "2  Air Fryer Recipes, Gluten Free, Keto Recipes, ...           0  ...   \n",
       "3  Gluten Free, Keto Recipes, Kid Friendly, Low C...           0  ...   \n",
       "4  Dairy Free, Gluten Free, Kid Friendly, Vegetar...           0  ...   \n",
       "\n",
       "   Long Island Iced Tea  Sponge Cake  Teriyaki Chicken  Lebanese Recipes  \\\n",
       "0                     0            0                 0                 0   \n",
       "1                     0            0                 0                 0   \n",
       "2                     0            0                 0                 0   \n",
       "3                     0            0                 0                 0   \n",
       "4                     0            0                 0                 0   \n",
       "\n",
       "   Salisbury Steak  Sweet Potato Casserole  Lemon Meringue Pie  Pumpkin Cake  \\\n",
       "0                0                       0                   0             0   \n",
       "1                0                       0                   0             0   \n",
       "2                0                       0                   0             0   \n",
       "3                0                       0                   0             0   \n",
       "4                0                       0                   0             0   \n",
       "\n",
       "   Rhubarb Crisp  Sweet and Sour Pork  \n",
       "0              0                    0  \n",
       "1              0                    0  \n",
       "2              0                    0  \n",
       "3              0                    0  \n",
       "4              0                    0  \n",
       "\n",
       "[5 rows x 774 columns]"
      ]
     },
     "execution_count": 24,
     "metadata": {},
     "output_type": "execute_result"
    }
   ],
   "source": [
    "data.head()"
   ]
  },
  {
   "cell_type": "code",
   "execution_count": 25,
   "metadata": {
    "colab": {
     "base_uri": "https://localhost:8080/",
     "height": 34
    },
    "colab_type": "code",
    "id": "OFUmsDvXltFx",
    "outputId": "1f93c758-60f3-4db9-dc34-08acccaea7be"
   },
   "outputs": [
    {
     "data": {
      "text/plain": [
       "(81957, 774)"
      ]
     },
     "execution_count": 25,
     "metadata": {},
     "output_type": "execute_result"
    }
   ],
   "source": [
    "data.shape"
   ]
  },
  {
   "cell_type": "code",
   "execution_count": 26,
   "metadata": {
    "colab": {},
    "colab_type": "code",
    "id": "cnxwvqTBltF2"
   },
   "outputs": [],
   "source": [
    "for index, row in data.iterrows():\n",
    "    for label in labels:\n",
    "        if label in row['tags']:\n",
    "            data.at[index, label] = 1\n"
   ]
  },
  {
   "cell_type": "code",
   "execution_count": 27,
   "metadata": {
    "colab": {
     "base_uri": "https://localhost:8080/",
     "height": 797
    },
    "colab_type": "code",
    "id": "nU_hLpJrltF9",
    "outputId": "e2e90314-7ca6-4095-cde7-91ae9256f6b9"
   },
   "outputs": [
    {
     "data": {
      "text/html": [
       "<div>\n",
       "<style scoped>\n",
       "    .dataframe tbody tr th:only-of-type {\n",
       "        vertical-align: middle;\n",
       "    }\n",
       "\n",
       "    .dataframe tbody tr th {\n",
       "        vertical-align: top;\n",
       "    }\n",
       "\n",
       "    .dataframe thead th {\n",
       "        text-align: right;\n",
       "    }\n",
       "</style>\n",
       "<table border=\"1\" class=\"dataframe\">\n",
       "  <thead>\n",
       "    <tr style=\"text-align: right;\">\n",
       "      <th></th>\n",
       "      <th>category</th>\n",
       "      <th>cooking_method</th>\n",
       "      <th>cuisine</th>\n",
       "      <th>image</th>\n",
       "      <th>ingredients</th>\n",
       "      <th>prep_time</th>\n",
       "      <th>recipe_name</th>\n",
       "      <th>serves</th>\n",
       "      <th>tags</th>\n",
       "      <th>Dairy Free</th>\n",
       "      <th>...</th>\n",
       "      <th>Long Island Iced Tea</th>\n",
       "      <th>Sponge Cake</th>\n",
       "      <th>Teriyaki Chicken</th>\n",
       "      <th>Lebanese Recipes</th>\n",
       "      <th>Salisbury Steak</th>\n",
       "      <th>Sweet Potato Casserole</th>\n",
       "      <th>Lemon Meringue Pie</th>\n",
       "      <th>Pumpkin Cake</th>\n",
       "      <th>Rhubarb Crisp</th>\n",
       "      <th>Sweet and Sour Pork</th>\n",
       "    </tr>\n",
       "  </thead>\n",
       "  <tbody>\n",
       "    <tr>\n",
       "      <th>0</th>\n",
       "      <td>NaN</td>\n",
       "      <td>['Set the racks in the middle and upper thirds...</td>\n",
       "      <td>['American']</td>\n",
       "      <td>https://www.skinnytaste.com/wp-content/uploads...</td>\n",
       "      <td>['1 tablespoons extra virgin olive oil', '1 cu...</td>\n",
       "      <td>20 minutes</td>\n",
       "      <td>Mediterranean Sea Bass</td>\n",
       "      <td>4 servings</td>\n",
       "      <td>Dairy Free, Gluten Free, Keto Recipes, Kid Fri...</td>\n",
       "      <td>1</td>\n",
       "      <td>...</td>\n",
       "      <td>0</td>\n",
       "      <td>0</td>\n",
       "      <td>0</td>\n",
       "      <td>0</td>\n",
       "      <td>0</td>\n",
       "      <td>0</td>\n",
       "      <td>0</td>\n",
       "      <td>0</td>\n",
       "      <td>0</td>\n",
       "      <td>0</td>\n",
       "    </tr>\n",
       "    <tr>\n",
       "      <th>1</th>\n",
       "      <td>NaN</td>\n",
       "      <td>['Place the eggs in the air fryer basket and c...</td>\n",
       "      <td>['American']</td>\n",
       "      <td>https://www.skinnytaste.com/wp-content/uploads...</td>\n",
       "      <td>['4 large eggs', 'Salt (black pepper, everythi...</td>\n",
       "      <td>15 minutes</td>\n",
       "      <td>Air Fryer Hard Boiled Eggs</td>\n",
       "      <td>4 eggs</td>\n",
       "      <td>Air Fryer Recipes, Dairy Free, Gluten Free, Ke...</td>\n",
       "      <td>1</td>\n",
       "      <td>...</td>\n",
       "      <td>0</td>\n",
       "      <td>0</td>\n",
       "      <td>0</td>\n",
       "      <td>0</td>\n",
       "      <td>0</td>\n",
       "      <td>0</td>\n",
       "      <td>0</td>\n",
       "      <td>0</td>\n",
       "      <td>0</td>\n",
       "      <td>0</td>\n",
       "    </tr>\n",
       "    <tr>\n",
       "      <th>2</th>\n",
       "      <td>NaN</td>\n",
       "      <td>['Air Fryer directions:', 'Preheat air fryer t...</td>\n",
       "      <td>['American']</td>\n",
       "      <td>https://www.skinnytaste.com/wp-content/uploads...</td>\n",
       "      <td>['olive oil spray', '4 about 5 ounce each salm...</td>\n",
       "      <td>5 minutes</td>\n",
       "      <td>Air Fryer Basil-Parmesan Salmon</td>\n",
       "      <td>4 servings</td>\n",
       "      <td>Air Fryer Recipes, Gluten Free, Keto Recipes, ...</td>\n",
       "      <td>0</td>\n",
       "      <td>...</td>\n",
       "      <td>0</td>\n",
       "      <td>0</td>\n",
       "      <td>0</td>\n",
       "      <td>0</td>\n",
       "      <td>0</td>\n",
       "      <td>0</td>\n",
       "      <td>0</td>\n",
       "      <td>0</td>\n",
       "      <td>0</td>\n",
       "      <td>0</td>\n",
       "    </tr>\n",
       "    <tr>\n",
       "      <th>3</th>\n",
       "      <td>NaN</td>\n",
       "      <td>['Preheat the oven to 400F.', 'Pour 2 tablespo...</td>\n",
       "      <td>['American']</td>\n",
       "      <td>https://www.skinnytaste.com/wp-content/uploads...</td>\n",
       "      <td>['1/2 cup freshly grated Parmesan (not pre-gra...</td>\n",
       "      <td>15 minutes</td>\n",
       "      <td>Everything Parmesan Crisps</td>\n",
       "      <td>4 servings</td>\n",
       "      <td>Gluten Free, Keto Recipes, Kid Friendly, Low C...</td>\n",
       "      <td>0</td>\n",
       "      <td>...</td>\n",
       "      <td>0</td>\n",
       "      <td>0</td>\n",
       "      <td>0</td>\n",
       "      <td>0</td>\n",
       "      <td>0</td>\n",
       "      <td>0</td>\n",
       "      <td>0</td>\n",
       "      <td>0</td>\n",
       "      <td>0</td>\n",
       "      <td>0</td>\n",
       "    </tr>\n",
       "    <tr>\n",
       "      <th>4</th>\n",
       "      <td>NaN</td>\n",
       "      <td>['Cook potatoes in a large pot of salted water...</td>\n",
       "      <td>['American']</td>\n",
       "      <td>https://www.skinnytaste.com/wp-content/uploads...</td>\n",
       "      <td>['3 1/2 pounds new potatoes (about 10 peeled a...</td>\n",
       "      <td>10 minutes</td>\n",
       "      <td>Potato and Green Bean Salad</td>\n",
       "      <td>12 servings</td>\n",
       "      <td>Dairy Free, Gluten Free, Kid Friendly, Vegetar...</td>\n",
       "      <td>1</td>\n",
       "      <td>...</td>\n",
       "      <td>0</td>\n",
       "      <td>0</td>\n",
       "      <td>0</td>\n",
       "      <td>0</td>\n",
       "      <td>0</td>\n",
       "      <td>0</td>\n",
       "      <td>0</td>\n",
       "      <td>0</td>\n",
       "      <td>0</td>\n",
       "      <td>0</td>\n",
       "    </tr>\n",
       "  </tbody>\n",
       "</table>\n",
       "<p>5 rows × 774 columns</p>\n",
       "</div>"
      ],
      "text/plain": [
       "   category                                     cooking_method       cuisine  \\\n",
       "0       NaN  ['Set the racks in the middle and upper thirds...  ['American']   \n",
       "1       NaN  ['Place the eggs in the air fryer basket and c...  ['American']   \n",
       "2       NaN  ['Air Fryer directions:', 'Preheat air fryer t...  ['American']   \n",
       "3       NaN  ['Preheat the oven to 400F.', 'Pour 2 tablespo...  ['American']   \n",
       "4       NaN  ['Cook potatoes in a large pot of salted water...  ['American']   \n",
       "\n",
       "                                               image  \\\n",
       "0  https://www.skinnytaste.com/wp-content/uploads...   \n",
       "1  https://www.skinnytaste.com/wp-content/uploads...   \n",
       "2  https://www.skinnytaste.com/wp-content/uploads...   \n",
       "3  https://www.skinnytaste.com/wp-content/uploads...   \n",
       "4  https://www.skinnytaste.com/wp-content/uploads...   \n",
       "\n",
       "                                         ingredients   prep_time  \\\n",
       "0  ['1 tablespoons extra virgin olive oil', '1 cu...  20 minutes   \n",
       "1  ['4 large eggs', 'Salt (black pepper, everythi...  15 minutes   \n",
       "2  ['olive oil spray', '4 about 5 ounce each salm...   5 minutes   \n",
       "3  ['1/2 cup freshly grated Parmesan (not pre-gra...  15 minutes   \n",
       "4  ['3 1/2 pounds new potatoes (about 10 peeled a...  10 minutes   \n",
       "\n",
       "                       recipe_name       serves  \\\n",
       "0           Mediterranean Sea Bass   4 servings   \n",
       "1       Air Fryer Hard Boiled Eggs       4 eggs   \n",
       "2  Air Fryer Basil-Parmesan Salmon   4 servings   \n",
       "3       Everything Parmesan Crisps   4 servings   \n",
       "4      Potato and Green Bean Salad  12 servings   \n",
       "\n",
       "                                                tags  Dairy Free  ...  \\\n",
       "0  Dairy Free, Gluten Free, Keto Recipes, Kid Fri...           1  ...   \n",
       "1  Air Fryer Recipes, Dairy Free, Gluten Free, Ke...           1  ...   \n",
       "2  Air Fryer Recipes, Gluten Free, Keto Recipes, ...           0  ...   \n",
       "3  Gluten Free, Keto Recipes, Kid Friendly, Low C...           0  ...   \n",
       "4  Dairy Free, Gluten Free, Kid Friendly, Vegetar...           1  ...   \n",
       "\n",
       "   Long Island Iced Tea  Sponge Cake  Teriyaki Chicken  Lebanese Recipes  \\\n",
       "0                     0            0                 0                 0   \n",
       "1                     0            0                 0                 0   \n",
       "2                     0            0                 0                 0   \n",
       "3                     0            0                 0                 0   \n",
       "4                     0            0                 0                 0   \n",
       "\n",
       "   Salisbury Steak  Sweet Potato Casserole  Lemon Meringue Pie  Pumpkin Cake  \\\n",
       "0                0                       0                   0             0   \n",
       "1                0                       0                   0             0   \n",
       "2                0                       0                   0             0   \n",
       "3                0                       0                   0             0   \n",
       "4                0                       0                   0             0   \n",
       "\n",
       "   Rhubarb Crisp  Sweet and Sour Pork  \n",
       "0              0                    0  \n",
       "1              0                    0  \n",
       "2              0                    0  \n",
       "3              0                    0  \n",
       "4              0                    0  \n",
       "\n",
       "[5 rows x 774 columns]"
      ]
     },
     "execution_count": 27,
     "metadata": {},
     "output_type": "execute_result"
    }
   ],
   "source": [
    "data.head()"
   ]
  },
  {
   "cell_type": "markdown",
   "metadata": {
    "colab_type": "text",
    "id": "7qRVEmZQKqJF"
   },
   "source": [
    "### Building the Neural Net\n",
    "* I'm using the pretrained text classifier BERT as it can give fantastic results with minimal finetuning.\n",
    "* The learning rate and max seq lenght has be initialised according to thr original paper - https://arxiv.org/abs/1810.04805"
   ]
  },
  {
   "cell_type": "code",
   "execution_count": 45,
   "metadata": {
    "colab": {
     "base_uri": "https://localhost:8080/",
     "height": 326
    },
    "colab_type": "code",
    "id": "KYaqQZQmxXYv",
    "outputId": "aa3abe92-bebf-486f-b252-30e8bde8ed2d"
   },
   "outputs": [
    {
     "name": "stdout",
     "output_type": "stream",
     "text": [
      "Requirement already satisfied: pytorch_pretrained_bert in /usr/local/lib/python3.6/dist-packages (0.6.2)\n",
      "Requirement already satisfied: regex in /usr/local/lib/python3.6/dist-packages (from pytorch_pretrained_bert) (2019.11.1)\n",
      "Requirement already satisfied: tqdm in /usr/local/lib/python3.6/dist-packages (from pytorch_pretrained_bert) (4.28.1)\n",
      "Requirement already satisfied: requests in /usr/local/lib/python3.6/dist-packages (from pytorch_pretrained_bert) (2.21.0)\n",
      "Requirement already satisfied: numpy in /usr/local/lib/python3.6/dist-packages (from pytorch_pretrained_bert) (1.17.4)\n",
      "Requirement already satisfied: boto3 in /usr/local/lib/python3.6/dist-packages (from pytorch_pretrained_bert) (1.10.18)\n",
      "Requirement already satisfied: torch>=0.4.1 in /usr/local/lib/python3.6/dist-packages (from pytorch_pretrained_bert) (1.3.1)\n",
      "Requirement already satisfied: idna<2.9,>=2.5 in /usr/local/lib/python3.6/dist-packages (from requests->pytorch_pretrained_bert) (2.8)\n",
      "Requirement already satisfied: certifi>=2017.4.17 in /usr/local/lib/python3.6/dist-packages (from requests->pytorch_pretrained_bert) (2019.9.11)\n",
      "Requirement already satisfied: chardet<3.1.0,>=3.0.2 in /usr/local/lib/python3.6/dist-packages (from requests->pytorch_pretrained_bert) (3.0.4)\n",
      "Requirement already satisfied: urllib3<1.25,>=1.21.1 in /usr/local/lib/python3.6/dist-packages (from requests->pytorch_pretrained_bert) (1.24.3)\n",
      "Requirement already satisfied: jmespath<1.0.0,>=0.7.1 in /usr/local/lib/python3.6/dist-packages (from boto3->pytorch_pretrained_bert) (0.9.4)\n",
      "Requirement already satisfied: botocore<1.14.0,>=1.13.18 in /usr/local/lib/python3.6/dist-packages (from boto3->pytorch_pretrained_bert) (1.13.18)\n",
      "Requirement already satisfied: s3transfer<0.3.0,>=0.2.0 in /usr/local/lib/python3.6/dist-packages (from boto3->pytorch_pretrained_bert) (0.2.1)\n",
      "Requirement already satisfied: docutils<0.16,>=0.10 in /usr/local/lib/python3.6/dist-packages (from botocore<1.14.0,>=1.13.18->boto3->pytorch_pretrained_bert) (0.15.2)\n",
      "Requirement already satisfied: python-dateutil<2.8.1,>=2.1; python_version >= \"2.7\" in /usr/local/lib/python3.6/dist-packages (from botocore<1.14.0,>=1.13.18->boto3->pytorch_pretrained_bert) (2.6.1)\n",
      "Requirement already satisfied: six>=1.5 in /usr/local/lib/python3.6/dist-packages (from python-dateutil<2.8.1,>=2.1; python_version >= \"2.7\"->botocore<1.14.0,>=1.13.18->boto3->pytorch_pretrained_bert) (1.12.0)\n"
     ]
    }
   ],
   "source": [
    "#Install bert and fastai\n",
    "\n",
    "!pip install pytorch_pretrained_bert\n",
    "!pip install fastai"
   ]
  },
  {
   "cell_type": "code",
   "execution_count": 29,
   "metadata": {
    "colab": {},
    "colab_type": "code",
    "id": "Vy7vqLXwltGG"
   },
   "outputs": [],
   "source": [
    "#Import libraries\n",
    "\n",
    "from pathlib import Path\n",
    "from typing import *\n",
    "\n",
    "import torch\n",
    "import torch.optim as optim\n",
    "\n",
    "from fastai import *\n",
    "from fastai.vision import *\n",
    "from fastai.text import *\n",
    "from fastai.callbacks import *"
   ]
  },
  {
   "cell_type": "code",
   "execution_count": 30,
   "metadata": {
    "colab": {},
    "colab_type": "code",
    "id": "c8v8zLV3ltGK"
   },
   "outputs": [],
   "source": [
    "#Define constants\n",
    "\n",
    "max_lr = 3e-5\n",
    "epochs = 2\n",
    "batch_size = 4\n",
    "max_seq_len = 512\n",
    "target_col = \"cooking_method\"\n",
    "bert_model_name = \"bert-base-uncased\"\n",
    "bert_model_path = \"https://s3.amazonaws.com/models.huggingface.co/bert/bert-base-uncased-vocab.txt\""
   ]
  },
  {
   "cell_type": "code",
   "execution_count": 31,
   "metadata": {
    "colab": {},
    "colab_type": "code",
    "id": "LfV4Ve5ZltGM"
   },
   "outputs": [],
   "source": [
    "#Download the pre-trained model\n",
    "\n",
    "from pytorch_pretrained_bert import BertTokenizer\n",
    "\n",
    "bert_tok = BertTokenizer.from_pretrained(bert_model_path)"
   ]
  },
  {
   "cell_type": "markdown",
   "metadata": {
    "colab_type": "text",
    "id": "vhCTC5-PMWkq"
   },
   "source": [
    "#### Define a wrapper for the tokenizer as per fastai conventions\n"
   ]
  },
  {
   "cell_type": "code",
   "execution_count": 32,
   "metadata": {
    "colab": {},
    "colab_type": "code",
    "id": "k8v_HavyltGP"
   },
   "outputs": [],
   "source": [
    "class FastAiBertTokenizer(BaseTokenizer):\n",
    "    def __init__(self, tokenizer: BertTokenizer, max_seq_len, **kwargs):\n",
    "        self._pretrained_tokenizer = tokenizer\n",
    "        self.max_seq_len = max_seq_len\n",
    "\n",
    "    def __call__(self, *args, **kwargs):\n",
    "        return self\n",
    "\n",
    "    def tokenizer(self, t:str) -> List[str]:\n",
    "        \n",
    "        # We need to add special tokens at the beginning and end of each sentence for BERT to work properly\n",
    "        return [\"[CLS]\"] + self._pretrained_tokenizer.tokenize(t)[:self.max_seq_len - 2] + [\"[SEP]\"]"
   ]
  },
  {
   "cell_type": "code",
   "execution_count": 33,
   "metadata": {
    "colab": {},
    "colab_type": "code",
    "id": "63LgV-DUltGS"
   },
   "outputs": [],
   "source": [
    "fastai_tokenizer = Tokenizer(tok_func=FastAiBertTokenizer(bert_tok, \n",
    "                                                          max_seq_len=max_seq_len), \n",
    "                                                          pre_rules=[], \n",
    "                                                          post_rules=[])\n"
   ]
  },
  {
   "cell_type": "code",
   "execution_count": 34,
   "metadata": {
    "colab": {},
    "colab_type": "code",
    "id": "a3_VCXc9ltGV"
   },
   "outputs": [],
   "source": [
    "#Construct a fastai Vocab object to use for preprocessing\n",
    "\n",
    "fastai_bert_vocab = Vocab(list(bert_tok.vocab.keys()))"
   ]
  },
  {
   "cell_type": "code",
   "execution_count": 35,
   "metadata": {
    "colab": {},
    "colab_type": "code",
    "id": "EDGot3SpltGb"
   },
   "outputs": [],
   "source": [
    "#Split the data into train and val\n",
    "\n",
    "from sklearn.model_selection import train_test_split\n",
    "\n",
    "train, val = train_test_split(data)"
   ]
  },
  {
   "cell_type": "markdown",
   "metadata": {
    "colab_type": "text",
    "id": "nZ2Kik_HM1xq"
   },
   "source": [
    "#### Build Databunch \n",
    "* Build the databunch using the tokenizer and vocabulary we build above\n",
    "* passing the include_bos=False and include_eos=False options to prevent fastai from adding its own SOS/EOS tokens that will interfere with BERT's SOS/EOS tokens."
   ]
  },
  {
   "cell_type": "code",
   "execution_count": 36,
   "metadata": {
    "colab": {},
    "colab_type": "code",
    "id": "2_JFf7H-ltGd"
   },
   "outputs": [
    {
     "data": {
      "text/html": [],
      "text/plain": [
       "<IPython.core.display.HTML object>"
      ]
     },
     "metadata": {},
     "output_type": "display_data"
    },
    {
     "data": {
      "text/html": [],
      "text/plain": [
       "<IPython.core.display.HTML object>"
      ]
     },
     "metadata": {},
     "output_type": "display_data"
    }
   ],
   "source": [
    "databunch = TextDataBunch.from_df(\".\", train, val,\n",
    "                  tokenizer=fastai_tokenizer,\n",
    "                  vocab=fastai_bert_vocab,\n",
    "                  include_bos=False,\n",
    "                  include_eos=False,\n",
    "                  text_cols=target_col,\n",
    "                  label_cols=labels,\n",
    "                  bs=batch_size,\n",
    "                  collate_fn=partial(pad_collate, pad_first=False, pad_idx=0),\n",
    "             )"
   ]
  },
  {
   "cell_type": "markdown",
   "metadata": {
    "colab_type": "text",
    "id": "Cg4OQws9NPtX"
   },
   "source": [
    "#### Training the model\n",
    "* Load the model\n",
    "* Define the loss function. Since this is a multilabel classification problem, I'm using BCEWithLogitsLoss\n",
    "* Define the evaluation metric\n",
    "* Build the Learner\n",
    "* Finetune the model to fit the new data\n",
    "\n"
   ]
  },
  {
   "cell_type": "code",
   "execution_count": 37,
   "metadata": {
    "colab": {
     "base_uri": "https://localhost:8080/",
     "height": 34
    },
    "colab_type": "code",
    "id": "gSSR6YXnltGf",
    "outputId": "b86df16f-5aba-43b5-fcd1-93f612ebb94c"
   },
   "outputs": [],
   "source": [
    "from pytorch_pretrained_bert.modeling import BertConfig, BertForSequenceClassification\n",
    "\n",
    "bert_model = BertForSequenceClassification.from_pretrained(bert_model_name, num_labels = num_labels)"
   ]
  },
  {
   "cell_type": "code",
   "execution_count": 38,
   "metadata": {},
   "outputs": [
    {
     "name": "stdout",
     "output_type": "stream",
     "text": [
      "BertForSequenceClassification(\n",
      "  (bert): BertModel(\n",
      "    (embeddings): BertEmbeddings(\n",
      "      (word_embeddings): Embedding(30522, 768, padding_idx=0)\n",
      "      (position_embeddings): Embedding(512, 768)\n",
      "      (token_type_embeddings): Embedding(2, 768)\n",
      "      (LayerNorm): BertLayerNorm()\n",
      "      (dropout): Dropout(p=0.1, inplace=False)\n",
      "    )\n",
      "    (encoder): BertEncoder(\n",
      "      (layer): ModuleList(\n",
      "        (0): BertLayer(\n",
      "          (attention): BertAttention(\n",
      "            (self): BertSelfAttention(\n",
      "              (query): Linear(in_features=768, out_features=768, bias=True)\n",
      "              (key): Linear(in_features=768, out_features=768, bias=True)\n",
      "              (value): Linear(in_features=768, out_features=768, bias=True)\n",
      "              (dropout): Dropout(p=0.1, inplace=False)\n",
      "            )\n",
      "            (output): BertSelfOutput(\n",
      "              (dense): Linear(in_features=768, out_features=768, bias=True)\n",
      "              (LayerNorm): BertLayerNorm()\n",
      "              (dropout): Dropout(p=0.1, inplace=False)\n",
      "            )\n",
      "          )\n",
      "          (intermediate): BertIntermediate(\n",
      "            (dense): Linear(in_features=768, out_features=3072, bias=True)\n",
      "          )\n",
      "          (output): BertOutput(\n",
      "            (dense): Linear(in_features=3072, out_features=768, bias=True)\n",
      "            (LayerNorm): BertLayerNorm()\n",
      "            (dropout): Dropout(p=0.1, inplace=False)\n",
      "          )\n",
      "        )\n",
      "        (1): BertLayer(\n",
      "          (attention): BertAttention(\n",
      "            (self): BertSelfAttention(\n",
      "              (query): Linear(in_features=768, out_features=768, bias=True)\n",
      "              (key): Linear(in_features=768, out_features=768, bias=True)\n",
      "              (value): Linear(in_features=768, out_features=768, bias=True)\n",
      "              (dropout): Dropout(p=0.1, inplace=False)\n",
      "            )\n",
      "            (output): BertSelfOutput(\n",
      "              (dense): Linear(in_features=768, out_features=768, bias=True)\n",
      "              (LayerNorm): BertLayerNorm()\n",
      "              (dropout): Dropout(p=0.1, inplace=False)\n",
      "            )\n",
      "          )\n",
      "          (intermediate): BertIntermediate(\n",
      "            (dense): Linear(in_features=768, out_features=3072, bias=True)\n",
      "          )\n",
      "          (output): BertOutput(\n",
      "            (dense): Linear(in_features=3072, out_features=768, bias=True)\n",
      "            (LayerNorm): BertLayerNorm()\n",
      "            (dropout): Dropout(p=0.1, inplace=False)\n",
      "          )\n",
      "        )\n",
      "        (2): BertLayer(\n",
      "          (attention): BertAttention(\n",
      "            (self): BertSelfAttention(\n",
      "              (query): Linear(in_features=768, out_features=768, bias=True)\n",
      "              (key): Linear(in_features=768, out_features=768, bias=True)\n",
      "              (value): Linear(in_features=768, out_features=768, bias=True)\n",
      "              (dropout): Dropout(p=0.1, inplace=False)\n",
      "            )\n",
      "            (output): BertSelfOutput(\n",
      "              (dense): Linear(in_features=768, out_features=768, bias=True)\n",
      "              (LayerNorm): BertLayerNorm()\n",
      "              (dropout): Dropout(p=0.1, inplace=False)\n",
      "            )\n",
      "          )\n",
      "          (intermediate): BertIntermediate(\n",
      "            (dense): Linear(in_features=768, out_features=3072, bias=True)\n",
      "          )\n",
      "          (output): BertOutput(\n",
      "            (dense): Linear(in_features=3072, out_features=768, bias=True)\n",
      "            (LayerNorm): BertLayerNorm()\n",
      "            (dropout): Dropout(p=0.1, inplace=False)\n",
      "          )\n",
      "        )\n",
      "        (3): BertLayer(\n",
      "          (attention): BertAttention(\n",
      "            (self): BertSelfAttention(\n",
      "              (query): Linear(in_features=768, out_features=768, bias=True)\n",
      "              (key): Linear(in_features=768, out_features=768, bias=True)\n",
      "              (value): Linear(in_features=768, out_features=768, bias=True)\n",
      "              (dropout): Dropout(p=0.1, inplace=False)\n",
      "            )\n",
      "            (output): BertSelfOutput(\n",
      "              (dense): Linear(in_features=768, out_features=768, bias=True)\n",
      "              (LayerNorm): BertLayerNorm()\n",
      "              (dropout): Dropout(p=0.1, inplace=False)\n",
      "            )\n",
      "          )\n",
      "          (intermediate): BertIntermediate(\n",
      "            (dense): Linear(in_features=768, out_features=3072, bias=True)\n",
      "          )\n",
      "          (output): BertOutput(\n",
      "            (dense): Linear(in_features=3072, out_features=768, bias=True)\n",
      "            (LayerNorm): BertLayerNorm()\n",
      "            (dropout): Dropout(p=0.1, inplace=False)\n",
      "          )\n",
      "        )\n",
      "        (4): BertLayer(\n",
      "          (attention): BertAttention(\n",
      "            (self): BertSelfAttention(\n",
      "              (query): Linear(in_features=768, out_features=768, bias=True)\n",
      "              (key): Linear(in_features=768, out_features=768, bias=True)\n",
      "              (value): Linear(in_features=768, out_features=768, bias=True)\n",
      "              (dropout): Dropout(p=0.1, inplace=False)\n",
      "            )\n",
      "            (output): BertSelfOutput(\n",
      "              (dense): Linear(in_features=768, out_features=768, bias=True)\n",
      "              (LayerNorm): BertLayerNorm()\n",
      "              (dropout): Dropout(p=0.1, inplace=False)\n",
      "            )\n",
      "          )\n",
      "          (intermediate): BertIntermediate(\n",
      "            (dense): Linear(in_features=768, out_features=3072, bias=True)\n",
      "          )\n",
      "          (output): BertOutput(\n",
      "            (dense): Linear(in_features=3072, out_features=768, bias=True)\n",
      "            (LayerNorm): BertLayerNorm()\n",
      "            (dropout): Dropout(p=0.1, inplace=False)\n",
      "          )\n",
      "        )\n",
      "        (5): BertLayer(\n",
      "          (attention): BertAttention(\n",
      "            (self): BertSelfAttention(\n",
      "              (query): Linear(in_features=768, out_features=768, bias=True)\n",
      "              (key): Linear(in_features=768, out_features=768, bias=True)\n",
      "              (value): Linear(in_features=768, out_features=768, bias=True)\n",
      "              (dropout): Dropout(p=0.1, inplace=False)\n",
      "            )\n",
      "            (output): BertSelfOutput(\n",
      "              (dense): Linear(in_features=768, out_features=768, bias=True)\n",
      "              (LayerNorm): BertLayerNorm()\n",
      "              (dropout): Dropout(p=0.1, inplace=False)\n",
      "            )\n",
      "          )\n",
      "          (intermediate): BertIntermediate(\n",
      "            (dense): Linear(in_features=768, out_features=3072, bias=True)\n",
      "          )\n",
      "          (output): BertOutput(\n",
      "            (dense): Linear(in_features=3072, out_features=768, bias=True)\n",
      "            (LayerNorm): BertLayerNorm()\n",
      "            (dropout): Dropout(p=0.1, inplace=False)\n",
      "          )\n",
      "        )\n",
      "        (6): BertLayer(\n",
      "          (attention): BertAttention(\n",
      "            (self): BertSelfAttention(\n",
      "              (query): Linear(in_features=768, out_features=768, bias=True)\n",
      "              (key): Linear(in_features=768, out_features=768, bias=True)\n",
      "              (value): Linear(in_features=768, out_features=768, bias=True)\n",
      "              (dropout): Dropout(p=0.1, inplace=False)\n",
      "            )\n",
      "            (output): BertSelfOutput(\n",
      "              (dense): Linear(in_features=768, out_features=768, bias=True)\n",
      "              (LayerNorm): BertLayerNorm()\n",
      "              (dropout): Dropout(p=0.1, inplace=False)\n",
      "            )\n",
      "          )\n",
      "          (intermediate): BertIntermediate(\n",
      "            (dense): Linear(in_features=768, out_features=3072, bias=True)\n",
      "          )\n",
      "          (output): BertOutput(\n",
      "            (dense): Linear(in_features=3072, out_features=768, bias=True)\n",
      "            (LayerNorm): BertLayerNorm()\n",
      "            (dropout): Dropout(p=0.1, inplace=False)\n",
      "          )\n",
      "        )\n",
      "        (7): BertLayer(\n",
      "          (attention): BertAttention(\n",
      "            (self): BertSelfAttention(\n",
      "              (query): Linear(in_features=768, out_features=768, bias=True)\n",
      "              (key): Linear(in_features=768, out_features=768, bias=True)\n",
      "              (value): Linear(in_features=768, out_features=768, bias=True)\n",
      "              (dropout): Dropout(p=0.1, inplace=False)\n",
      "            )\n",
      "            (output): BertSelfOutput(\n",
      "              (dense): Linear(in_features=768, out_features=768, bias=True)\n",
      "              (LayerNorm): BertLayerNorm()\n",
      "              (dropout): Dropout(p=0.1, inplace=False)\n",
      "            )\n",
      "          )\n",
      "          (intermediate): BertIntermediate(\n",
      "            (dense): Linear(in_features=768, out_features=3072, bias=True)\n",
      "          )\n",
      "          (output): BertOutput(\n",
      "            (dense): Linear(in_features=3072, out_features=768, bias=True)\n",
      "            (LayerNorm): BertLayerNorm()\n",
      "            (dropout): Dropout(p=0.1, inplace=False)\n",
      "          )\n",
      "        )\n",
      "        (8): BertLayer(\n",
      "          (attention): BertAttention(\n",
      "            (self): BertSelfAttention(\n",
      "              (query): Linear(in_features=768, out_features=768, bias=True)\n",
      "              (key): Linear(in_features=768, out_features=768, bias=True)\n",
      "              (value): Linear(in_features=768, out_features=768, bias=True)\n",
      "              (dropout): Dropout(p=0.1, inplace=False)\n",
      "            )\n",
      "            (output): BertSelfOutput(\n",
      "              (dense): Linear(in_features=768, out_features=768, bias=True)\n",
      "              (LayerNorm): BertLayerNorm()\n",
      "              (dropout): Dropout(p=0.1, inplace=False)\n",
      "            )\n",
      "          )\n",
      "          (intermediate): BertIntermediate(\n",
      "            (dense): Linear(in_features=768, out_features=3072, bias=True)\n",
      "          )\n",
      "          (output): BertOutput(\n",
      "            (dense): Linear(in_features=3072, out_features=768, bias=True)\n",
      "            (LayerNorm): BertLayerNorm()\n",
      "            (dropout): Dropout(p=0.1, inplace=False)\n",
      "          )\n",
      "        )\n",
      "        (9): BertLayer(\n",
      "          (attention): BertAttention(\n",
      "            (self): BertSelfAttention(\n",
      "              (query): Linear(in_features=768, out_features=768, bias=True)\n",
      "              (key): Linear(in_features=768, out_features=768, bias=True)\n",
      "              (value): Linear(in_features=768, out_features=768, bias=True)\n",
      "              (dropout): Dropout(p=0.1, inplace=False)\n",
      "            )\n",
      "            (output): BertSelfOutput(\n",
      "              (dense): Linear(in_features=768, out_features=768, bias=True)\n",
      "              (LayerNorm): BertLayerNorm()\n",
      "              (dropout): Dropout(p=0.1, inplace=False)\n",
      "            )\n",
      "          )\n",
      "          (intermediate): BertIntermediate(\n",
      "            (dense): Linear(in_features=768, out_features=3072, bias=True)\n",
      "          )\n",
      "          (output): BertOutput(\n",
      "            (dense): Linear(in_features=3072, out_features=768, bias=True)\n",
      "            (LayerNorm): BertLayerNorm()\n",
      "            (dropout): Dropout(p=0.1, inplace=False)\n",
      "          )\n",
      "        )\n",
      "        (10): BertLayer(\n",
      "          (attention): BertAttention(\n",
      "            (self): BertSelfAttention(\n",
      "              (query): Linear(in_features=768, out_features=768, bias=True)\n",
      "              (key): Linear(in_features=768, out_features=768, bias=True)\n",
      "              (value): Linear(in_features=768, out_features=768, bias=True)\n",
      "              (dropout): Dropout(p=0.1, inplace=False)\n",
      "            )\n",
      "            (output): BertSelfOutput(\n",
      "              (dense): Linear(in_features=768, out_features=768, bias=True)\n",
      "              (LayerNorm): BertLayerNorm()\n",
      "              (dropout): Dropout(p=0.1, inplace=False)\n",
      "            )\n",
      "          )\n",
      "          (intermediate): BertIntermediate(\n",
      "            (dense): Linear(in_features=768, out_features=3072, bias=True)\n",
      "          )\n",
      "          (output): BertOutput(\n",
      "            (dense): Linear(in_features=3072, out_features=768, bias=True)\n",
      "            (LayerNorm): BertLayerNorm()\n",
      "            (dropout): Dropout(p=0.1, inplace=False)\n",
      "          )\n",
      "        )\n",
      "        (11): BertLayer(\n",
      "          (attention): BertAttention(\n",
      "            (self): BertSelfAttention(\n",
      "              (query): Linear(in_features=768, out_features=768, bias=True)\n",
      "              (key): Linear(in_features=768, out_features=768, bias=True)\n",
      "              (value): Linear(in_features=768, out_features=768, bias=True)\n",
      "              (dropout): Dropout(p=0.1, inplace=False)\n",
      "            )\n",
      "            (output): BertSelfOutput(\n",
      "              (dense): Linear(in_features=768, out_features=768, bias=True)\n",
      "              (LayerNorm): BertLayerNorm()\n",
      "              (dropout): Dropout(p=0.1, inplace=False)\n",
      "            )\n",
      "          )\n",
      "          (intermediate): BertIntermediate(\n",
      "            (dense): Linear(in_features=768, out_features=3072, bias=True)\n",
      "          )\n",
      "          (output): BertOutput(\n",
      "            (dense): Linear(in_features=3072, out_features=768, bias=True)\n",
      "            (LayerNorm): BertLayerNorm()\n",
      "            (dropout): Dropout(p=0.1, inplace=False)\n",
      "          )\n",
      "        )\n",
      "      )\n",
      "    )\n",
      "    (pooler): BertPooler(\n",
      "      (dense): Linear(in_features=768, out_features=768, bias=True)\n",
      "      (activation): Tanh()\n",
      "    )\n",
      "  )\n",
      "  (dropout): Dropout(p=0.1, inplace=False)\n",
      "  (classifier): Linear(in_features=768, out_features=765, bias=True)\n",
      ")\n"
     ]
    }
   ],
   "source": [
    "print(bert_model)"
   ]
  },
  {
   "cell_type": "code",
   "execution_count": 0,
   "metadata": {
    "colab": {},
    "colab_type": "code",
    "id": "iz1U3flxltGh"
   },
   "outputs": [],
   "source": [
    "loss_func = nn.BCEWithLogitsLoss()"
   ]
  },
  {
   "cell_type": "code",
   "execution_count": 0,
   "metadata": {
    "colab": {},
    "colab_type": "code",
    "id": "sujYR8vZltGk"
   },
   "outputs": [],
   "source": [
    "acc_ = partial(accuracy_thresh, thresh=0.25)"
   ]
  },
  {
   "cell_type": "code",
   "execution_count": 0,
   "metadata": {
    "colab": {},
    "colab_type": "code",
    "id": "cAz6O_71ltGp"
   },
   "outputs": [],
   "source": [
    "learner = Learner(\n",
    "    databunch, \n",
    "    bert_model,\n",
    "    loss_func=loss_func,\n",
    "    model_dir='.', \n",
    "    metrics=acc_, \n",
    "  )"
   ]
  },
  {
   "cell_type": "markdown",
   "metadata": {},
   "source": [
    "#### Training the model\n",
    "\n",
    "* The model was trained on a colab instance gpu for two epochs and each epoch took around 2 and a half hours. \n",
    "* Buffered data was truncated after reaching the output size limit: There is a limited memory for displaying output of a cell on colab. The output is truncated because there is no more memory left free to display the buffered epochs. However, the machine keeps running in the background and the output is processed but it is not displayed because of the buffered limit. \n",
    "* Our model still works as desired.\n",
    "* I trained the model only for two epochs due to time and computational constraints. Even in just two epochs, the model gives an accuracy of 98% and good predictions. Given enough training time, the model could give stellar results.\n",
    "* I understand the problem statement asked for RMSLE as the evaluation metric but considering this a multilabel classification, I saw no reason to use RMSLE."
   ]
  },
  {
   "cell_type": "code",
   "execution_count": 58,
   "metadata": {
    "colab": {
     "base_uri": "https://localhost:8080/",
     "height": 143
    },
    "colab_type": "code",
    "id": "NiAGlCS0ltGs",
    "outputId": "0e765baa-455a-4e48-dcf3-79544c11896b"
   },
   "outputs": [
    {
     "data": {
      "text/html": [
       "\n",
       "    <div>\n",
       "        <style>\n",
       "            /* Turns off some styling */\n",
       "            progress {\n",
       "                /* gets rid of default border in Firefox and Opera. */\n",
       "                border: none;\n",
       "                /* Needs to be in here for Safari polyfill so background images work as expected. */\n",
       "                background-size: auto;\n",
       "            }\n",
       "            .progress-bar-interrupted, .progress-bar-interrupted::-webkit-progress-bar {\n",
       "                background: #F44336;\n",
       "            }\n",
       "        </style>\n",
       "      <progress value='1' class='' max='2', style='width:300px; height:20px; vertical-align: middle;'></progress>\n",
       "      50.00% [1/2 2:08:39<2:08:39]\n",
       "    </div>\n",
       "    \n",
       "<table border=\"1\" class=\"dataframe\">\n",
       "  <thead>\n",
       "    <tr style=\"text-align: left;\">\n",
       "      <th>epoch</th>\n",
       "      <th>train_loss</th>\n",
       "      <th>valid_loss</th>\n",
       "      <th>accuracy_thresh</th>\n",
       "      <th>time</th>\n",
       "    </tr>\n",
       "  </thead>\n",
       "  <tbody>\n",
       "    <tr>\n",
       "      <td>0</td>\n",
       "      <td>0.035607</td>\n",
       "      <td>0.034228</td>\n",
       "      <td>0.988738</td>\n",
       "      <td>2:08:39</td>\n",
       "    </tr>\n",
       "  </tbody>\n",
       "</table><p>\n",
       "\n",
       "    <div>\n",
       "        <style>\n",
       "            /* Turns off some styling */\n",
       "            progress {\n",
       "                /* gets rid of default border in Firefox and Opera. */\n",
       "                border: none;\n",
       "                /* Needs to be in here for Safari polyfill so background images work as expected. */\n",
       "                background-size: auto;\n",
       "            }\n",
       "            .progress-bar-interrupted, .progress-bar-interrupted::-webkit-progress-bar {\n",
       "                background: #F44336;\n",
       "            }\n",
       "        </style>\n",
       "      <progress value='500' class='' max='15135', style='width:300px; height:20px; vertical-align: middle;'></progress>\n",
       "      3.30% [500/15135 05:38<2:45:15 0.0342]\n",
       "    </div>\n",
       "    "
      ],
      "text/plain": [
       "<IPython.core.display.HTML object>"
      ]
     },
     "metadata": {
      "tags": []
     },
     "output_type": "display_data"
    },
    {
     "name": "stdout",
     "output_type": "stream",
     "text": [
      "Buffered data was truncated after reaching the output size limit."
     ]
    }
   ],
   "source": [
    "learner.fit_one_cycle(epochs, max_lr=max_lr)"
   ]
  },
  {
   "cell_type": "code",
   "execution_count": 112,
   "metadata": {
    "colab": {
     "base_uri": "https://localhost:8080/",
     "height": 279
    },
    "colab_type": "code",
    "id": "zHJTrERgC_5X",
    "outputId": "b465662d-37cd-4709-f423-b4ba905366cd"
   },
   "outputs": [
    {
     "data": {
      "image/png": "[encoded data removed]",
      "text/plain": [
       "<Figure size 432x288 with 1 Axes>"
      ]
     },
     "metadata": {
      "tags": []
     },
     "output_type": "display_data"
    }
   ],
   "source": [
    "learner.recorder.plot()"
   ]
  },
  {
   "cell_type": "markdown",
   "metadata": {},
   "source": [
    "### Generating Predictions\n",
    "* Invoke the predict_tags method to generate tags"
   ]
  },
  {
   "cell_type": "code",
   "execution_count": 0,
   "metadata": {
    "colab": {},
    "colab_type": "code",
    "id": "7kF-umTeDQoE"
   },
   "outputs": [],
   "source": [
    "def predict_tags(inp_txt):\n",
    "    print(inp_txt,\"\\nTags:\",learner.predict(inp_txt)[0],\"\\n\")"
   ]
  },
  {
   "cell_type": "code",
   "execution_count": 114,
   "metadata": {
    "colab": {
     "base_uri": "https://localhost:8080/",
     "height": 1000
    },
    "colab_type": "code",
    "id": "CqlS51nNltGz",
    "outputId": "4fffd719-4f28-4974-b47b-1a6d533895ca"
   },
   "outputs": [
    {
     "name": "stdout",
     "output_type": "stream",
     "text": [
      "['Preheat the oven to 300 degrees.', 'Soak the dried cepes in hot water with 1/2 teaspoon salt for 30 minutes. Drain, reserving soaking liquid. Rinse cepes under cool running water to eliminate any grit or sand. Strain soaking liquid through coffee filter paper or several layers of damp cheesecloth and set aside.', 'Wipe caps of fresh mushrooms with damp cloth and a little coarse salt. Set aside.', 'In a large skillet, heat the fat or oil over medium heat. Add the dried cepes and their soaking liquid and cook until all the liquid in the pan has evaporated. Add the ham, shallots, and garlic and cook, stirring, 1 minute. Add the fresh cepes and cook, stirring, over high heat until all the moisture has evaporated. Pour the wine over the mixture and boil down to a glaze.', 'Add 1/2 cup hot water and the tomato. Cook, stirrinmg, over gentle heat for an instant, then add 1/2 teaspoon salt, 1/4 teaspoon pepper, and the parsley.', 'Scrape into an earthenware or enameled cast-iron casserole with a tight-fitting lid. Cover with waxed paper and the lid; cook slowly in the oven 2 to 2 1/2 hours. Uncover and cool completely. Refrigerate, covered.', 'Reheat slowly. Add the demi glace and adjust seasoning with a few drops of lemon juice, salt, and pepper. Serve with toasted rounds of French bread, if desired.', 'Suggested Drink: Chateau Magnol, Haut Medoc, Cru Bourgeois 1993'] \n",
      "Tags: Vegetable;Meat;Pork \n",
      "\n",
      "['For larding: Toss larding pork with onion, lemon rind, allspice and salt and pepper. Cut deep incisions into meat with larding needle, press some of pork and onion mixture into needle and insert into meat. Continue to lard meat in the same manner until all larding pork is used. Rub remaining onion mixture over meat.', 'For marinade: Bring all ingredients to a rapid boil in a heavy saucepan and simmer 5 minutes.', 'Place meat in large heatproof, nonmetallic bowl. Pour in hot marinade, cool to room temperature and chill, covered, 4 days, turning meat twice a day.', 'Remove meat from marinade and pat dry. Strain marinade, reserving liquid and solids. Dredge meat in flour and season with salt and pepper. In large casserole heat vegetable oil over moderate heat until hot. Add beef and brown on all sides, 8 to 10 minutes. Transfer meat to platter and discard drippings from casserole. Add butter and heat until hot. Add carrots, onions, reserved marinade solids and cook, stirring often, 5 minutes. Return meat to casserole, add marinade and tomato paste. Bring to a boil and simmer, covered with foil and the lid, for 3 1/2 to 4 hours, or until tender.', 'Remove meat to platter and cover loosely with foil. Skim cooking liquid and strain, discarding solids. Return marinade to casserole, add sugar, raisins and gingersnaps and simmer 5 minutes. In a small bowl whisk flour with 1/3 cup water. Whisk into simmering liquid and simmer until lightly thickened.', 'To serve: Slice meat across grain, arrange on platter, overlapping slices slightly and nap with some of gravy. Pass remaining gravy separately. Serve with Spaetzle and Red Cabbage.'] \n",
      "Tags: Vegetable;Main Dish;Meat;Pork \n",
      "\n",
      "['In a shallow bowl, combine flour, salt, and pepper and dredge fish in seasoned flour. In a saute pan over medium heat, heat oil until hot. Add fish to pan and cook until well browned on both sides. Remove fish and blot on paper. Return saute pan to heat. Add butter, let melt, and cook until brown. Add lemon juice, allow to sizzle, and add chopped parsley. Plate fish and drizzle lemon butter over top. Serve with asparagus.;'] \n",
      "Tags: Vegetable;Main Dish;Fish \n",
      "\n",
      "['To prepare the soft-shell crabs: Put the flour in a pie dish or plate and season with a fair amount of salt and pepper. Dredge the crabs in the seasoned flour to coat, shaking off the excess. Heat the oil in a large skillet over medium-high flame. Lay the crabs in the hot oil in a single layer without crowding; you may have to fry them in batches. Be careful, the crabs have a tendency to pop and spatter. Cook the crabs for about 3 minutes on each side, turning once, until golden brown. Drain on paper towels and cover to keep warm.', 'Lower the heat to medium and add the butter to the pan. Let the butter melt and cook until it just begins to brown. Add the capers and wine; cook, stirring, for 2 minutes until almost dry. Add the lemon juice and parsley; season with salt and pepper. Pour the caper brown butter sauce over the crabs and serve with lemon wedges.'] \n",
      "Tags: Shellfish Recipes \n",
      "\n",
      "['Dredge scallops in flour, shaking off excess, and season with salt and pepper. In large skillet set over moderate flame, heat olive oil and butter until hot. Add scallops and saute for 1 minute on each side. Transfer to sauce for just a minute and season mixture with fresh lemon juice and chervil.', 'Make the sauce: In a saute pan set over moderately high flame, heat the oil and butter until hot. Add the shallots and cook, stirring, 1 minute. Add the mushrooms, thyme and salt and pepper and cook, stirring occasionally, for 3 to 5 minutes, or until mushrooms are soft. Add the garlic and cook, stirring, 1 minute. Add the wine and reduce by half. Add the demiglace and simmer 5 minutes. Add the cream and reduce until lightly thickened. Correct seasoning. Cover with a round of buttered waxed paper and keep hot.'] \n",
      "Tags: Vegetable;Main Dish;Shellfish Recipes;Mushroom \n",
      "\n",
      "['Directions', 'Heat olive oil in medium skillet over medium high heat. Lightly flour liver and place in pan and sear for 5 seconds and flip. Add arugula and garlic and quickly saute Deglaze with balsamic vinegar and serve over onion tart, recipe follows.', 'For the Tart: Render diced bacon until crispy. Add butter, onion, rosemary and cook until tender. Season with salt and pepper. Roll out dough and plate filling in middle and top with blue cheese. Fold over edges and bake in a preheated 500 degree oven until golden brown, approximately 10 to 12 minutes. Serve with calves liver.', 'Recipe courtesy of Michael Symon, Lola, Cleveland, OH'] \n",
      "Tags: Vegetable;Meat;Bacon Recipes;Cheese \n",
      "\n",
      "['Directions', 'In a large bowl combine well the sausage, the sage, the thyme, and the cayenne, divide the mixture into 4 equal portions, and flatten each portion into a thin round. Enclose each hard-boiled egg completely in 1 of the rounds, patting the sausage into place. Dredge the sausage-coated eggs in the flour, shaking off the excess, dip them in the raw eggs, letting the excess drip off, and roll them gently in the bread crumbs, coating them well. In a deep fryer heat 2 1/2 inches of the oil to 350 degrees and in it fry the Scotch eggs, 2 at a time, turning them and transferring them to paper towels to drain with a slotted spoon as they are done, for 10 minutes.;'] \n",
      "Tags: Sausage Recipes;Egg Recipes \n",
      "\n",
      "['Directions', 'For the chipped beef, in a saute pan heat the oil and add the red onions. Saute until golden brown. Add the beef and saute until the meat is browned. Add in the flour and mix well. Whisk in the hot stock. Cook until it begins to thicken stirring constantly. Stir in the cream, mustard and white wine. Season with salt, pepper, and parsley.', 'For the biscuits, sift all together dry ingredients. Cut in the chilled butter until the texture is of coarse crumbs. Stir in the buttermilk to form a soft dough. Drop biscuits onto a cookie sheet lined with parchment paper. Bake in a 350 degree preheated oven until golden brown.', 'For the plate; scramble 2 eggs for each biscuit served. Slice each biscuit in half and place flat bottoms on the plate. Fill each biscuit base with eggs. Spoon chipped beef and onions over eggs. Garnish with fresh parsley. Serve while hot.', 'This recipe was provided by a chef, restaurant or culinary professional. It has not been tested for home use.', 'Recipe courtesy of Matthew Lake, Executive Chef, 27 Standard, New York, NY'] \n",
      "Tags: Main Dish;Meat \n",
      "\n",
      "['Directions', 'Thread the lamb cubes onto satay skewers. In a bowl, mix together soy sauce, coriander seed, black pepper and lime juice. Brush each skewer with the sauce, coating well. Grill or broil the satay until medium rare. Stir the sliced shallots into the remaining sauce and serve as a dip for the cooked satay.;'] \n",
      "Tags: Main Dish;Grilling;Meat \n",
      "\n",
      "['If using canned salmon, drain and pick over carefully to remove dark cartilage and bones. Finely chop the onion. Using a fork, flake the salmon and then combine in a medium bowl with the onion, egg, bread crumbs, Worcestershire sauce, hot sauce, black pepper, cheese and parsley. Using about 1/3 cup salmon mixture for each cake, shape the mixture into rounds, about 1/2-inch thick. Sprinkle the flour on a plate or board. Dredge the patties in the flour, coating well, but dusting off excess flour. Place the patties in the refrigerator and let set for 30 minutes or longer. Heat the butter or margarine in a large skillet until foamy and hot. Add the patties and brown on both sides, cooking about 5 minutes. Remove the salmon cakes from the pan and drain on paper towels. Serve warm, with lemon wedges.'] \n",
      "Tags: Main Dish;Fish;Salmon \n",
      "\n",
      "['Place Parmigiano-Reggiano, ricotta and egg in bowl section of food processor. Mix until smooth. Put 3/4 cup of flour into a separate bowl and fold in cheese mixture. Knead all together until fully incorporated, being sure not to over-knead. If mixture becomes gummy, you have gone too far.', 'Liberally dust the table top and your hands using 1/2 cup flour. Divide the gnocchi mixture into 8 equal pieces. Using your hands, roll each piece into a cylinder 1/2 inch in diameter, dusting with additional flour as needed.', 'Cut cylinders into 1 inch long pieces and place on a parchment-lined sheet pan that has been dusted with flour. Refrigerate for 1 hour.', 'Fill a large bowl with ice and water. Use this as a bath to shock the gnocchi after cooking.', 'Bring 1 gallon of salted water to a boil. Add half the gnocchi, cover pot, and boil until gnocchi rise to the top (approximately 3 minutes). Remove immediately with a slotted spoon and place in the ice water bath. Repeat process with remaining gnocchi.', 'When gnocchi have cooled, remove from water and place in non-reactive pan. Coat with 2 tablespoons of olive oil and refrigerate.', 'To serve, reheat gnocchi in a large pot of boiling water for 1 minute and serve with morel or your favorite sauce and garnish.', 'Place butter and shallot in 1-quart sauce pot over medium heat. Cook until translucent. Add morels and pinch of salt. Cook for 3 minutes stirring occasionally. Add white wine and reduce by two thirds. Add chicken stock reducing again by two thirds. Add heavy cream, turn down heat and simmer for 20 minutes or until sauce coats the back of a spoon. Season with salt and pepper.;'] \n",
      "Tags: Vegetable;Italian;Cheese;Pasta Recipes \n",
      "\n",
      "['Directions', 'In a large, heavy bottomed soup pot, saute the onions and celery in the whole butter until translucent. Stir in the flour and cook over a low flame for approximately 5 minutes. Add a splash of Sherry then the cream, stir this then add the water and milk. Now add the salt, hot sauce and crab roe, bring to a simmer then add the crabmeat. Stir in the crab gently as to not break the lumps. If the soup appears too thick, add a little more milk and adjust the seasonings. Serve in a soup cup and garnish with the scallions, chives and a splash of sherry.;', 'Recipe courtesy of John Malik, Augusta Grill, Greenville, SC'] \n",
      "Tags: Vegetable;Shellfish Recipes \n",
      "\n",
      "['In a saucepan melt the butter. Add the celery, carrots, onion, garlic and season with salt and pepper. Stir to coat vegetables with butter and cover with a buttered round of waxed paper.', 'Sweat the vegetables for 5 minutes. Stir in the flour and cook for 2 minutes. Add the gravy, milk, fresh thyme and fresh parsley. Simmer this mixture, stirring occasionally, for 15 minutes.', 'Add the roast lamb and cooked peas. Correct seasoning. Spoon mixture into a 1 1/2 quart oval baking dish. Spread 2 cups mashed potatoes on top with a spatula. Deeply score crisscross pattern in potatoes.', 'In a small bowl beat together the egg and milk. Brush glaze over potatoes. Put dish in oven. Bake at 350 degrees for 30 minutes, and then put it under the broiler until the potatoes turn golden.', 'Drink: Newcastle Brown Ale'] \n",
      "Tags: Vegetable;Main Dish;Meat;Potato \n",
      "\n",
      "['With the point of a knife, score the skin side of the duck breasts in crosshatch pattern, being careful not to pierce the flesh of the meat.', 'Season the duck breasts with salt and pepper. Heat a saute pan over medium heat for 2 minutes before adding the breasts, skin side down. Cook over medium to low heat for approximately 6 minutes to 8 minutes to render the fat.', 'Before turning the breasts over, carefully remove the excess fat from the saute pan. Turn the breasts over and saute the flesh side for 3 to 4 minutes before removing the duck breasts from the pan.', 'Add the shallots to the pan in which the duck breasts were cooked and return to the heat. Saute the shallots briefly before adding the ginger, add the honey and mirin, stir to combine and add the hot broth. Reduce to a simmer and cook until half the liquid has evaporated. Add the soy and cabbage and cook for 2 minutes before adding the scallions, stir, and remove from the heat.', 'The breasts have rested for several minutes and should now be medium rare. They can be sliced lengthwise or crosswise and several slices placed on each plate. Quickly reheat the sauce, if necessary, and drizzle some around the duck breasts.'] \n",
      "Tags: Vegetable;Main Dish;Asian;Poultry \n",
      "\n",
      "['Directions', 'Cut the chicken breasts into strips. In a medium bowl, toss together chicken strips, 2 tablespoons sesame seeds, 1 tablespoon freshly squeezed lemon juice, and 1 teaspoon sesame oil. In a separate medium bowl, toss together with Napa cabbage shredded, 2 cups spinach leaves, shredded, and 1 carrot, shredded. Add 1 teaspoon sesame oil and salt to taste. Slice a baguette 3/4 of the way through. Stuff the chicken and slaw into the baguette. Cut into 3 or 4 sandwiches.;'] \n",
      "Tags: Vegetable;Main Dish;Poultry;Chicken \n",
      "\n",
      "['In a shallow bowl, combine flour, salt and pepper. Dredge roe in seasoned flour. In a saute pan over medium heat, heat oil until hot. Add roe to pan and cook top side (side without vein) until well browned. Reduce heat, turn roe over, and continue to cook on second side until well browned and almost firm. Cover pan slightly to avoid dangerous splattering. Remove roe and blot on paper. Return saute pan to heat. Add butter, let melt, and cook until brown. Add lemon juice, allow to sizzle, and add chopped parsley. Plate roe and drizzle lemon butter over top. Serve smoked bacon on top of roe.;'] \n",
      "Tags: Main Dish;Meat;Bacon Recipes \n",
      "\n",
      "['Combine all sauce ingredients in a medium-size saucepan and bring to a boil over medium heat. Reduce the heat and simmer for 15 minutes, stirring occasionally. Remove the pan from the heat and strain the sauce through a sieve, pressing as much of the sauce through as possible. Return the sauce to a clean saucepan and keep it warm. Rinse the tuna steaks and pat them dry with paper towels. Rub them with the salt and coarse pepper. Heat the oil in a large skillet over medium-high heat, and sear the steaks for 3 to 4 minutes on each side (or to taste). Spoon a pool of Coconut Curry Sauce onto each plate, and set the tuna on top of the sauce. Serve immediately.;'] \n",
      "Tags: Gluten Free;Fruit;Main Dish;Fish \n",
      "\n",
      "['Preheat your panini press or sandwich maker or nonstick skillet.', \"Arrange the bread slices on your cutting board. Place 1 slice of cheese on top of 2 of the bread slices; sprinkle the chopped piquillo peppers on top of the cheese. Top that with the 2 slices of ham, and finish it off with the last slices of cheese. Top with remaining bread -- no need for butter! Arrange the sandwiches in your sandwich maker or panini press; cook until the outside is golden brown and the cheese has melted. If using a nonstick skillet, once the sandwiches are in the pan, top with a piece of foil and then pop a tea kettle half filled with water on top of the foil. This will weigh the sandwiches down and give you that panini effect without a machine. If using a skillet, you'll have to flip the sandwiches.\"] \n",
      "Tags: Main Dish;Meat;Cheese \n",
      "\n",
      "['Mix 1/2 cup each flour and cornmeal, 1 teaspoon baking powder, and a pinch each of sugar, salt and dry mustard. Whisk in 1/2 cup milk and 1 egg. Insert sticks into hot dogs, dredge in flour, then dip in the batter; deep-fry in 365 degree F vegetable oil until golden.', 'Taco Dogs', 'Wrap grilled halved hot dogs in grilled flour tortillas; top with shredded cheddar, lettuce, salsa and sour cream.', 'Rub hot dogs with chili powder and wrap each in a flour tortilla. Dip in beaten egg, then dredge in flour and deep-fry in 350 degree F vegetable oil until golden; sprinkle with cheddar and bake at 375 degree F until the cheese melts. Top with salsa, sour cream and jalapenos.', 'New York Street Dogs', 'Serve boiled hot dogs on soft buns with sauerkraut and spicy brown mustard.', 'Pekingese Dogs', 'Sprinkle hot dogs with five-spice powder; grill, brushing with hoisin or plum sauce. Serve on toasted potato buns with sliced cucumbers, scallions, cilantro and more sauce.', 'Serve grilled or boiled mini hot dogs on split-top mini potato rolls. Top with ketchup and/or mustard.', 'Bacon-Wrapped Splitters', 'Score hot dogs lengthwise; wrap with bacon and fry in 350 degree F vegetable oil until the bacon is crisp. Serve on soft buns.', 'BBQ Dogs', 'Grill hot dogs, brushing with barbecue sauce. Serve on toasted buns with coleslaw and more sauce.', 'BLT Dogs', 'Fry thick bacon strips until crisp, then fry hot dogs in the drippings. Serve on toasted buns with mayonnaise, shredded lettuce, diced tomato and the bacon.', 'Frito Dogs', 'Serve grilled hot dogs on crusty buns with bean chili, shredded cheddar, pickled jalapenos and crushed Fritos.', 'Serve grilled hot dogs on grilled buns with remoulade sauce or Creole mustard, shredded romaine and pickled okra. Sprinkle with Creole seasoning.', 'French Poodles', 'Melt sliced Brie on grilled hot dogs; serve on sliced baguettes and top with chopped cornichons and Dijon mustard.', 'Sprinkle jerk seasoning on chicken dogs; grill. Serve on grilled buns with lettuce, jalapenos and a mix of equal parts mango chutney, mayonnaise and jerk sauce.', 'Siberian Huskies', 'Tuck boiled hot dogs into potato buns; top with potato salad, beet horseradish and chopped hard-boiled eggs. Drizzle with Russian dressing.', 'Combine 1/4 cup each lime juice, brown sugar and pitted dates, 1/4 teaspoon each cumin, chili powder and salt, and a splash of water and heat until thick; puree. Brush chicken dogs with vegetable oil, sprinkle with curry powder and grill. Serve on soft buns with the puree, a curry snack mix, onion and cilantro.', 'Onion-Smothered Dogs', 'Saute 1 sliced onion in vegetable oil; add 3 tablespoons ketchup, 1/4 cup red wine vinegar, 1 1/2 cups water, cayenne and paprika; simmer until thick. Serve on boiled dogs in soft buns.', 'Boston Terriers', 'Saute 1 diced onion with 1/4 pound chopped bacon. Add 1 cup white beans, 1/2 cup ketchup, 1/2 cup water and 1 tablespoon each brown sugar, mustard and cider vinegar; add hot dogs and simmer until thick. Serve on toasted buns.', 'Serve grilled hot dogs on hoagie rolls with cheese sauce, sauteed peppers and onions, and a dash of hot sauce.', 'The 12 Best Hot Dogs, Burgers and Buns at the Grocery Store, According to Chefs'] \n",
      "Tags: Main Dish;Meat \n",
      "\n",
      "['In a fine sieve, rinse the rice well under cold running water and drain. In a large, heavy pot, fry the bacon over moderate heat, drain on paper towels, and set aside. Pour off all but 3 tablespoons of the grease, add the onions to the pot, and cook for 3 minutes over moderate heat, stirring. Add the rice and stir well. Add the stock, tomatoes with their juices, lemon juice, Worcestershire, salt, nutmeg, and black and cayenne peppers, bring to a low simmer, cover, and cook for 20 minutes. Stir in the crumbled bacon and the shrimp and continue cooking, uncovered, for 10 minutes, adding a little more stock if the rice seems to be drying out. Stir the bog with a fork, taste for seasoning, and sprinkle the parsley on top.'] \n",
      "Tags: Vegetable;Grain Recipes;Main Dish;Shellfish Recipes;Tomato;Rice Recipes;Shrimp;Meat;Bacon Recipes \n",
      "\n"
     ]
    }
   ],
   "source": [
    "for item in test_sample[10:30]:\n",
    "    predict_tags(item)"
   ]
  },
  {
   "cell_type": "code",
   "execution_count": 0,
   "metadata": {
    "colab": {},
    "colab_type": "code",
    "id": "VRBwqzNPCc19"
   },
   "outputs": [],
   "source": []
  }
 ],
 "metadata": {
  "accelerator": "GPU",
  "colab": {
   "collapsed_sections": [],
   "name": "MultiLabel Classification With BERT.ipynb",
   "provenance": []
  },
  "kernelspec": {
   "display_name": "Python 3",
   "language": "python",
   "name": "python3"
  },
  "language_info": {
   "codemirror_mode": {
    "name": "ipython",
    "version": 3
   },
   "file_extension": ".py",
   "mimetype": "text/x-python",
   "name": "python",
   "nbconvert_exporter": "python",
   "pygments_lexer": "ipython3",
   "version": "3.6.9"
  }
 },
 "nbformat": 4,
 "nbformat_minor": 1
}
